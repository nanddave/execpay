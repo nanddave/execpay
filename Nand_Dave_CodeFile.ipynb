{
 "cells": [
  {
   "cell_type": "code",
   "execution_count": 1,
   "id": "56af7a2f",
   "metadata": {},
   "outputs": [],
   "source": [
    "#Importing the required libraries\n",
    "\n",
    "import pandas as pd \n",
    "import numpy as np \n",
    "import matplotlib.pyplot as plt \n",
    "import seaborn as sns \n",
    "\n",
    "import warnings\n",
    "warnings.filterwarnings('ignore')\n",
    "pd.set_option('display.max_rows', 1000)\n"
   ]
  },
  {
   "cell_type": "code",
   "execution_count": 2,
   "id": "ec6b6fe9",
   "metadata": {},
   "outputs": [],
   "source": [
    "df = pd.read_csv('lab_assignment.csv')"
   ]
  },
  {
   "cell_type": "code",
   "execution_count": 3,
   "id": "948f3dfc",
   "metadata": {},
   "outputs": [
    {
     "data": {
      "text/html": [
       "<div>\n",
       "<style scoped>\n",
       "    .dataframe tbody tr th:only-of-type {\n",
       "        vertical-align: middle;\n",
       "    }\n",
       "\n",
       "    .dataframe tbody tr th {\n",
       "        vertical-align: top;\n",
       "    }\n",
       "\n",
       "    .dataframe thead th {\n",
       "        text-align: right;\n",
       "    }\n",
       "</style>\n",
       "<table border=\"1\" class=\"dataframe\">\n",
       "  <thead>\n",
       "    <tr style=\"text-align: right;\">\n",
       "      <th></th>\n",
       "      <th>EXEC_FULLNAME</th>\n",
       "      <th>CO_PER_ROL</th>\n",
       "      <th>CONAME</th>\n",
       "      <th>SALARY</th>\n",
       "      <th>AGE</th>\n",
       "      <th>EXECRANKANN</th>\n",
       "      <th>TDC1</th>\n",
       "      <th>TDC1_PCT</th>\n",
       "      <th>GVKEY</th>\n",
       "      <th>EXECID</th>\n",
       "      <th>YEAR</th>\n",
       "      <th>GENDER</th>\n",
       "      <th>TICKER</th>\n",
       "    </tr>\n",
       "  </thead>\n",
       "  <tbody>\n",
       "    <tr>\n",
       "      <th>0</th>\n",
       "      <td>Gerard J. Arpey</td>\n",
       "      <td>14221</td>\n",
       "      <td>AMERICAN AIRLINES GROUP INC</td>\n",
       "      <td>669.646</td>\n",
       "      <td>51.0</td>\n",
       "      <td>1.0</td>\n",
       "      <td>5231.393</td>\n",
       "      <td>10.770</td>\n",
       "      <td>1045</td>\n",
       "      <td>14591</td>\n",
       "      <td>2010</td>\n",
       "      <td>MALE</td>\n",
       "      <td>AAL</td>\n",
       "    </tr>\n",
       "    <tr>\n",
       "      <th>1</th>\n",
       "      <td>Daniel P. Garton</td>\n",
       "      <td>16477</td>\n",
       "      <td>AMERICAN AIRLINES GROUP INC</td>\n",
       "      <td>530.478</td>\n",
       "      <td>52.0</td>\n",
       "      <td>4.0</td>\n",
       "      <td>2372.140</td>\n",
       "      <td>9.762</td>\n",
       "      <td>1045</td>\n",
       "      <td>16654</td>\n",
       "      <td>2010</td>\n",
       "      <td>MALE</td>\n",
       "      <td>AAL</td>\n",
       "    </tr>\n",
       "    <tr>\n",
       "      <th>2</th>\n",
       "      <td>Gary F. Kennedy</td>\n",
       "      <td>29348</td>\n",
       "      <td>AMERICAN AIRLINES GROUP INC</td>\n",
       "      <td>502.543</td>\n",
       "      <td>55.0</td>\n",
       "      <td>5.0</td>\n",
       "      <td>1776.069</td>\n",
       "      <td>28.245</td>\n",
       "      <td>1045</td>\n",
       "      <td>28279</td>\n",
       "      <td>2010</td>\n",
       "      <td>MALE</td>\n",
       "      <td>AAL</td>\n",
       "    </tr>\n",
       "    <tr>\n",
       "      <th>3</th>\n",
       "      <td>Robert William Reding</td>\n",
       "      <td>29349</td>\n",
       "      <td>AMERICAN AIRLINES GROUP INC</td>\n",
       "      <td>530.479</td>\n",
       "      <td>60.0</td>\n",
       "      <td>3.0</td>\n",
       "      <td>2288.908</td>\n",
       "      <td>9.942</td>\n",
       "      <td>1045</td>\n",
       "      <td>28280</td>\n",
       "      <td>2010</td>\n",
       "      <td>MALE</td>\n",
       "      <td>AAL</td>\n",
       "    </tr>\n",
       "    <tr>\n",
       "      <th>4</th>\n",
       "      <td>Thomas W. Horton</td>\n",
       "      <td>33126</td>\n",
       "      <td>AMERICAN AIRLINES GROUP INC</td>\n",
       "      <td>618.135</td>\n",
       "      <td>48.0</td>\n",
       "      <td>2.0</td>\n",
       "      <td>3142.082</td>\n",
       "      <td>44.956</td>\n",
       "      <td>1045</td>\n",
       "      <td>26059</td>\n",
       "      <td>2010</td>\n",
       "      <td>MALE</td>\n",
       "      <td>AAL</td>\n",
       "    </tr>\n",
       "  </tbody>\n",
       "</table>\n",
       "</div>"
      ],
      "text/plain": [
       "           EXEC_FULLNAME  CO_PER_ROL                       CONAME   SALARY  \\\n",
       "0        Gerard J. Arpey       14221  AMERICAN AIRLINES GROUP INC  669.646   \n",
       "1       Daniel P. Garton       16477  AMERICAN AIRLINES GROUP INC  530.478   \n",
       "2        Gary F. Kennedy       29348  AMERICAN AIRLINES GROUP INC  502.543   \n",
       "3  Robert William Reding       29349  AMERICAN AIRLINES GROUP INC  530.479   \n",
       "4       Thomas W. Horton       33126  AMERICAN AIRLINES GROUP INC  618.135   \n",
       "\n",
       "    AGE  EXECRANKANN      TDC1  TDC1_PCT  GVKEY  EXECID  YEAR GENDER TICKER  \n",
       "0  51.0          1.0  5231.393    10.770   1045   14591  2010   MALE    AAL  \n",
       "1  52.0          4.0  2372.140     9.762   1045   16654  2010   MALE    AAL  \n",
       "2  55.0          5.0  1776.069    28.245   1045   28279  2010   MALE    AAL  \n",
       "3  60.0          3.0  2288.908     9.942   1045   28280  2010   MALE    AAL  \n",
       "4  48.0          2.0  3142.082    44.956   1045   26059  2010   MALE    AAL  "
      ]
     },
     "execution_count": 3,
     "metadata": {},
     "output_type": "execute_result"
    }
   ],
   "source": [
    "df.head()"
   ]
  },
  {
   "cell_type": "code",
   "execution_count": 4,
   "id": "53924075",
   "metadata": {},
   "outputs": [],
   "source": [
    "#removing the unnecessray columns\n",
    "df.drop(['CO_PER_ROL','GVKEY','EXECID'],axis=1,inplace=True)"
   ]
  },
  {
   "cell_type": "code",
   "execution_count": 5,
   "id": "36df1d57",
   "metadata": {},
   "outputs": [
    {
     "data": {
      "text/html": [
       "<div>\n",
       "<style scoped>\n",
       "    .dataframe tbody tr th:only-of-type {\n",
       "        vertical-align: middle;\n",
       "    }\n",
       "\n",
       "    .dataframe tbody tr th {\n",
       "        vertical-align: top;\n",
       "    }\n",
       "\n",
       "    .dataframe thead th {\n",
       "        text-align: right;\n",
       "    }\n",
       "</style>\n",
       "<table border=\"1\" class=\"dataframe\">\n",
       "  <thead>\n",
       "    <tr style=\"text-align: right;\">\n",
       "      <th></th>\n",
       "      <th>SALARY</th>\n",
       "      <th>AGE</th>\n",
       "      <th>EXECRANKANN</th>\n",
       "      <th>TDC1</th>\n",
       "      <th>TDC1_PCT</th>\n",
       "      <th>YEAR</th>\n",
       "    </tr>\n",
       "  </thead>\n",
       "  <tbody>\n",
       "    <tr>\n",
       "      <th>count</th>\n",
       "      <td>27292.000000</td>\n",
       "      <td>27204.000000</td>\n",
       "      <td>25768.000000</td>\n",
       "      <td>26425.000000</td>\n",
       "      <td>21586.000000</td>\n",
       "      <td>27292.000000</td>\n",
       "    </tr>\n",
       "    <tr>\n",
       "      <th>mean</th>\n",
       "      <td>693.076058</td>\n",
       "      <td>54.212542</td>\n",
       "      <td>3.200481</td>\n",
       "      <td>5425.185085</td>\n",
       "      <td>61.411298</td>\n",
       "      <td>2014.591858</td>\n",
       "    </tr>\n",
       "    <tr>\n",
       "      <th>std</th>\n",
       "      <td>475.370632</td>\n",
       "      <td>6.813600</td>\n",
       "      <td>1.613103</td>\n",
       "      <td>7167.083875</td>\n",
       "      <td>1918.748573</td>\n",
       "      <td>2.898454</td>\n",
       "    </tr>\n",
       "    <tr>\n",
       "      <th>min</th>\n",
       "      <td>0.000000</td>\n",
       "      <td>27.000000</td>\n",
       "      <td>1.000000</td>\n",
       "      <td>-3283.061000</td>\n",
       "      <td>-125.347000</td>\n",
       "      <td>2010.000000</td>\n",
       "    </tr>\n",
       "    <tr>\n",
       "      <th>25%</th>\n",
       "      <td>450.000000</td>\n",
       "      <td>50.000000</td>\n",
       "      <td>2.000000</td>\n",
       "      <td>2053.175000</td>\n",
       "      <td>-10.999000</td>\n",
       "      <td>2012.000000</td>\n",
       "    </tr>\n",
       "    <tr>\n",
       "      <th>50%</th>\n",
       "      <td>600.000000</td>\n",
       "      <td>54.000000</td>\n",
       "      <td>3.000000</td>\n",
       "      <td>3449.486000</td>\n",
       "      <td>7.055000</td>\n",
       "      <td>2015.000000</td>\n",
       "    </tr>\n",
       "    <tr>\n",
       "      <th>75%</th>\n",
       "      <td>846.371000</td>\n",
       "      <td>58.000000</td>\n",
       "      <td>4.000000</td>\n",
       "      <td>6512.949000</td>\n",
       "      <td>31.825000</td>\n",
       "      <td>2017.000000</td>\n",
       "    </tr>\n",
       "    <tr>\n",
       "      <th>max</th>\n",
       "      <td>18000.000000</td>\n",
       "      <td>177.000000</td>\n",
       "      <td>12.000000</td>\n",
       "      <td>377996.537000</td>\n",
       "      <td>234725.751000</td>\n",
       "      <td>2020.000000</td>\n",
       "    </tr>\n",
       "  </tbody>\n",
       "</table>\n",
       "</div>"
      ],
      "text/plain": [
       "             SALARY           AGE   EXECRANKANN           TDC1       TDC1_PCT  \\\n",
       "count  27292.000000  27204.000000  25768.000000   26425.000000   21586.000000   \n",
       "mean     693.076058     54.212542      3.200481    5425.185085      61.411298   \n",
       "std      475.370632      6.813600      1.613103    7167.083875    1918.748573   \n",
       "min        0.000000     27.000000      1.000000   -3283.061000    -125.347000   \n",
       "25%      450.000000     50.000000      2.000000    2053.175000     -10.999000   \n",
       "50%      600.000000     54.000000      3.000000    3449.486000       7.055000   \n",
       "75%      846.371000     58.000000      4.000000    6512.949000      31.825000   \n",
       "max    18000.000000    177.000000     12.000000  377996.537000  234725.751000   \n",
       "\n",
       "               YEAR  \n",
       "count  27292.000000  \n",
       "mean    2014.591858  \n",
       "std        2.898454  \n",
       "min     2010.000000  \n",
       "25%     2012.000000  \n",
       "50%     2015.000000  \n",
       "75%     2017.000000  \n",
       "max     2020.000000  "
      ]
     },
     "execution_count": 5,
     "metadata": {},
     "output_type": "execute_result"
    }
   ],
   "source": [
    "df.describe()"
   ]
  },
  {
   "cell_type": "code",
   "execution_count": 6,
   "id": "e4cee12d",
   "metadata": {},
   "outputs": [
    {
     "data": {
      "text/plain": [
       "(27292, 10)"
      ]
     },
     "execution_count": 6,
     "metadata": {},
     "output_type": "execute_result"
    }
   ],
   "source": [
    "df.shape"
   ]
  },
  {
   "cell_type": "code",
   "execution_count": 7,
   "id": "f28becaf",
   "metadata": {},
   "outputs": [
    {
     "data": {
      "text/html": [
       "<div>\n",
       "<style scoped>\n",
       "    .dataframe tbody tr th:only-of-type {\n",
       "        vertical-align: middle;\n",
       "    }\n",
       "\n",
       "    .dataframe tbody tr th {\n",
       "        vertical-align: top;\n",
       "    }\n",
       "\n",
       "    .dataframe thead th {\n",
       "        text-align: right;\n",
       "    }\n",
       "</style>\n",
       "<table border=\"1\" class=\"dataframe\">\n",
       "  <thead>\n",
       "    <tr style=\"text-align: right;\">\n",
       "      <th></th>\n",
       "      <th>EXEC_FULLNAME</th>\n",
       "      <th>CONAME</th>\n",
       "      <th>SALARY</th>\n",
       "      <th>AGE</th>\n",
       "      <th>EXECRANKANN</th>\n",
       "      <th>TDC1</th>\n",
       "      <th>TDC1_PCT</th>\n",
       "      <th>YEAR</th>\n",
       "      <th>GENDER</th>\n",
       "      <th>TICKER</th>\n",
       "    </tr>\n",
       "  </thead>\n",
       "  <tbody>\n",
       "    <tr>\n",
       "      <th>0</th>\n",
       "      <td>Gerard J. Arpey</td>\n",
       "      <td>AMERICAN AIRLINES GROUP INC</td>\n",
       "      <td>669.646</td>\n",
       "      <td>51.0</td>\n",
       "      <td>1.0</td>\n",
       "      <td>5231.393</td>\n",
       "      <td>10.770</td>\n",
       "      <td>2010</td>\n",
       "      <td>MALE</td>\n",
       "      <td>AAL</td>\n",
       "    </tr>\n",
       "    <tr>\n",
       "      <th>1</th>\n",
       "      <td>Daniel P. Garton</td>\n",
       "      <td>AMERICAN AIRLINES GROUP INC</td>\n",
       "      <td>530.478</td>\n",
       "      <td>52.0</td>\n",
       "      <td>4.0</td>\n",
       "      <td>2372.140</td>\n",
       "      <td>9.762</td>\n",
       "      <td>2010</td>\n",
       "      <td>MALE</td>\n",
       "      <td>AAL</td>\n",
       "    </tr>\n",
       "    <tr>\n",
       "      <th>2</th>\n",
       "      <td>Gary F. Kennedy</td>\n",
       "      <td>AMERICAN AIRLINES GROUP INC</td>\n",
       "      <td>502.543</td>\n",
       "      <td>55.0</td>\n",
       "      <td>5.0</td>\n",
       "      <td>1776.069</td>\n",
       "      <td>28.245</td>\n",
       "      <td>2010</td>\n",
       "      <td>MALE</td>\n",
       "      <td>AAL</td>\n",
       "    </tr>\n",
       "    <tr>\n",
       "      <th>3</th>\n",
       "      <td>Robert William Reding</td>\n",
       "      <td>AMERICAN AIRLINES GROUP INC</td>\n",
       "      <td>530.479</td>\n",
       "      <td>60.0</td>\n",
       "      <td>3.0</td>\n",
       "      <td>2288.908</td>\n",
       "      <td>9.942</td>\n",
       "      <td>2010</td>\n",
       "      <td>MALE</td>\n",
       "      <td>AAL</td>\n",
       "    </tr>\n",
       "    <tr>\n",
       "      <th>4</th>\n",
       "      <td>Thomas W. Horton</td>\n",
       "      <td>AMERICAN AIRLINES GROUP INC</td>\n",
       "      <td>618.135</td>\n",
       "      <td>48.0</td>\n",
       "      <td>2.0</td>\n",
       "      <td>3142.082</td>\n",
       "      <td>44.956</td>\n",
       "      <td>2010</td>\n",
       "      <td>MALE</td>\n",
       "      <td>AAL</td>\n",
       "    </tr>\n",
       "  </tbody>\n",
       "</table>\n",
       "</div>"
      ],
      "text/plain": [
       "           EXEC_FULLNAME                       CONAME   SALARY   AGE  \\\n",
       "0        Gerard J. Arpey  AMERICAN AIRLINES GROUP INC  669.646  51.0   \n",
       "1       Daniel P. Garton  AMERICAN AIRLINES GROUP INC  530.478  52.0   \n",
       "2        Gary F. Kennedy  AMERICAN AIRLINES GROUP INC  502.543  55.0   \n",
       "3  Robert William Reding  AMERICAN AIRLINES GROUP INC  530.479  60.0   \n",
       "4       Thomas W. Horton  AMERICAN AIRLINES GROUP INC  618.135  48.0   \n",
       "\n",
       "   EXECRANKANN      TDC1  TDC1_PCT  YEAR GENDER TICKER  \n",
       "0          1.0  5231.393    10.770  2010   MALE    AAL  \n",
       "1          4.0  2372.140     9.762  2010   MALE    AAL  \n",
       "2          5.0  1776.069    28.245  2010   MALE    AAL  \n",
       "3          3.0  2288.908     9.942  2010   MALE    AAL  \n",
       "4          2.0  3142.082    44.956  2010   MALE    AAL  "
      ]
     },
     "execution_count": 7,
     "metadata": {},
     "output_type": "execute_result"
    }
   ],
   "source": [
    "df.head()"
   ]
  },
  {
   "cell_type": "code",
   "execution_count": 8,
   "id": "dbbcf76e",
   "metadata": {},
   "outputs": [
    {
     "name": "stdout",
     "output_type": "stream",
     "text": [
      "<class 'pandas.core.frame.DataFrame'>\n",
      "RangeIndex: 27292 entries, 0 to 27291\n",
      "Data columns (total 10 columns):\n",
      " #   Column         Non-Null Count  Dtype  \n",
      "---  ------         --------------  -----  \n",
      " 0   EXEC_FULLNAME  27292 non-null  object \n",
      " 1   CONAME         27292 non-null  object \n",
      " 2   SALARY         27292 non-null  float64\n",
      " 3   AGE            27204 non-null  float64\n",
      " 4   EXECRANKANN    25768 non-null  float64\n",
      " 5   TDC1           26425 non-null  float64\n",
      " 6   TDC1_PCT       21586 non-null  float64\n",
      " 7   YEAR           27292 non-null  int64  \n",
      " 8   GENDER         27292 non-null  object \n",
      " 9   TICKER         27292 non-null  object \n",
      "dtypes: float64(5), int64(1), object(4)\n",
      "memory usage: 2.1+ MB\n"
     ]
    }
   ],
   "source": [
    "df.info()"
   ]
  },
  {
   "cell_type": "code",
   "execution_count": 9,
   "id": "50e67e21",
   "metadata": {},
   "outputs": [
    {
     "data": {
      "text/plain": [
       "EXEC_FULLNAME     0.000000\n",
       "CONAME            0.000000\n",
       "SALARY            0.000000\n",
       "AGE               0.322439\n",
       "EXECRANKANN       5.584054\n",
       "TDC1              3.176755\n",
       "TDC1_PCT         20.907226\n",
       "YEAR              0.000000\n",
       "GENDER            0.000000\n",
       "TICKER            0.000000\n",
       "dtype: float64"
      ]
     },
     "execution_count": 9,
     "metadata": {},
     "output_type": "execute_result"
    }
   ],
   "source": [
    "# finding the percentage of null values\n",
    "((df.isnull().sum())/len(df))*100"
   ]
  },
  {
   "cell_type": "code",
   "execution_count": 10,
   "id": "d2f81371",
   "metadata": {},
   "outputs": [
    {
     "data": {
      "text/html": [
       "<div>\n",
       "<style scoped>\n",
       "    .dataframe tbody tr th:only-of-type {\n",
       "        vertical-align: middle;\n",
       "    }\n",
       "\n",
       "    .dataframe tbody tr th {\n",
       "        vertical-align: top;\n",
       "    }\n",
       "\n",
       "    .dataframe thead th {\n",
       "        text-align: right;\n",
       "    }\n",
       "</style>\n",
       "<table border=\"1\" class=\"dataframe\">\n",
       "  <thead>\n",
       "    <tr style=\"text-align: right;\">\n",
       "      <th></th>\n",
       "      <th>EXEC_FULLNAME</th>\n",
       "      <th>CONAME</th>\n",
       "      <th>SALARY</th>\n",
       "      <th>AGE</th>\n",
       "      <th>EXECRANKANN</th>\n",
       "      <th>TDC1</th>\n",
       "      <th>TDC1_PCT</th>\n",
       "      <th>YEAR</th>\n",
       "      <th>GENDER</th>\n",
       "      <th>TICKER</th>\n",
       "    </tr>\n",
       "  </thead>\n",
       "  <tbody>\n",
       "    <tr>\n",
       "      <th>0</th>\n",
       "      <td>Gerard J. Arpey</td>\n",
       "      <td>AMERICAN AIRLINES GROUP INC</td>\n",
       "      <td>669.646</td>\n",
       "      <td>51.0</td>\n",
       "      <td>1.0</td>\n",
       "      <td>5231.393</td>\n",
       "      <td>10.770</td>\n",
       "      <td>2010</td>\n",
       "      <td>MALE</td>\n",
       "      <td>AAL</td>\n",
       "    </tr>\n",
       "    <tr>\n",
       "      <th>1</th>\n",
       "      <td>Daniel P. Garton</td>\n",
       "      <td>AMERICAN AIRLINES GROUP INC</td>\n",
       "      <td>530.478</td>\n",
       "      <td>52.0</td>\n",
       "      <td>4.0</td>\n",
       "      <td>2372.140</td>\n",
       "      <td>9.762</td>\n",
       "      <td>2010</td>\n",
       "      <td>MALE</td>\n",
       "      <td>AAL</td>\n",
       "    </tr>\n",
       "    <tr>\n",
       "      <th>2</th>\n",
       "      <td>Gary F. Kennedy</td>\n",
       "      <td>AMERICAN AIRLINES GROUP INC</td>\n",
       "      <td>502.543</td>\n",
       "      <td>55.0</td>\n",
       "      <td>5.0</td>\n",
       "      <td>1776.069</td>\n",
       "      <td>28.245</td>\n",
       "      <td>2010</td>\n",
       "      <td>MALE</td>\n",
       "      <td>AAL</td>\n",
       "    </tr>\n",
       "    <tr>\n",
       "      <th>3</th>\n",
       "      <td>Robert William Reding</td>\n",
       "      <td>AMERICAN AIRLINES GROUP INC</td>\n",
       "      <td>530.479</td>\n",
       "      <td>60.0</td>\n",
       "      <td>3.0</td>\n",
       "      <td>2288.908</td>\n",
       "      <td>9.942</td>\n",
       "      <td>2010</td>\n",
       "      <td>MALE</td>\n",
       "      <td>AAL</td>\n",
       "    </tr>\n",
       "    <tr>\n",
       "      <th>4</th>\n",
       "      <td>Thomas W. Horton</td>\n",
       "      <td>AMERICAN AIRLINES GROUP INC</td>\n",
       "      <td>618.135</td>\n",
       "      <td>48.0</td>\n",
       "      <td>2.0</td>\n",
       "      <td>3142.082</td>\n",
       "      <td>44.956</td>\n",
       "      <td>2010</td>\n",
       "      <td>MALE</td>\n",
       "      <td>AAL</td>\n",
       "    </tr>\n",
       "    <tr>\n",
       "      <th>5</th>\n",
       "      <td>Isabella Davidov Goren</td>\n",
       "      <td>AMERICAN AIRLINES GROUP INC</td>\n",
       "      <td>423.993</td>\n",
       "      <td>49.0</td>\n",
       "      <td>6.0</td>\n",
       "      <td>1695.521</td>\n",
       "      <td>NaN</td>\n",
       "      <td>2010</td>\n",
       "      <td>FEMALE</td>\n",
       "      <td>AAL</td>\n",
       "    </tr>\n",
       "    <tr>\n",
       "      <th>6</th>\n",
       "      <td>Gerard J. Arpey</td>\n",
       "      <td>AMERICAN AIRLINES GROUP INC</td>\n",
       "      <td>613.842</td>\n",
       "      <td>52.0</td>\n",
       "      <td>2.0</td>\n",
       "      <td>5526.835</td>\n",
       "      <td>5.647</td>\n",
       "      <td>2011</td>\n",
       "      <td>MALE</td>\n",
       "      <td>AAL</td>\n",
       "    </tr>\n",
       "    <tr>\n",
       "      <th>7</th>\n",
       "      <td>Daniel P. Garton</td>\n",
       "      <td>AMERICAN AIRLINES GROUP INC</td>\n",
       "      <td>530.478</td>\n",
       "      <td>53.0</td>\n",
       "      <td>4.0</td>\n",
       "      <td>2509.451</td>\n",
       "      <td>5.788</td>\n",
       "      <td>2011</td>\n",
       "      <td>MALE</td>\n",
       "      <td>AAL</td>\n",
       "    </tr>\n",
       "    <tr>\n",
       "      <th>8</th>\n",
       "      <td>Gary F. Kennedy</td>\n",
       "      <td>AMERICAN AIRLINES GROUP INC</td>\n",
       "      <td>522.000</td>\n",
       "      <td>56.0</td>\n",
       "      <td>5.0</td>\n",
       "      <td>1611.182</td>\n",
       "      <td>-9.284</td>\n",
       "      <td>2011</td>\n",
       "      <td>MALE</td>\n",
       "      <td>AAL</td>\n",
       "    </tr>\n",
       "    <tr>\n",
       "      <th>9</th>\n",
       "      <td>Robert William Reding</td>\n",
       "      <td>AMERICAN AIRLINES GROUP INC</td>\n",
       "      <td>530.479</td>\n",
       "      <td>61.0</td>\n",
       "      <td>3.0</td>\n",
       "      <td>2424.863</td>\n",
       "      <td>5.940</td>\n",
       "      <td>2011</td>\n",
       "      <td>MALE</td>\n",
       "      <td>AAL</td>\n",
       "    </tr>\n",
       "    <tr>\n",
       "      <th>10</th>\n",
       "      <td>Thomas W. Horton</td>\n",
       "      <td>AMERICAN AIRLINES GROUP INC</td>\n",
       "      <td>618.135</td>\n",
       "      <td>49.0</td>\n",
       "      <td>1.0</td>\n",
       "      <td>3311.662</td>\n",
       "      <td>5.397</td>\n",
       "      <td>2011</td>\n",
       "      <td>MALE</td>\n",
       "      <td>AAL</td>\n",
       "    </tr>\n",
       "    <tr>\n",
       "      <th>11</th>\n",
       "      <td>Isabella Davidov Goren</td>\n",
       "      <td>AMERICAN AIRLINES GROUP INC</td>\n",
       "      <td>508.007</td>\n",
       "      <td>50.0</td>\n",
       "      <td>6.0</td>\n",
       "      <td>1599.234</td>\n",
       "      <td>-5.679</td>\n",
       "      <td>2011</td>\n",
       "      <td>FEMALE</td>\n",
       "      <td>AAL</td>\n",
       "    </tr>\n",
       "    <tr>\n",
       "      <th>12</th>\n",
       "      <td>Daniel P. Garton</td>\n",
       "      <td>AMERICAN AIRLINES GROUP INC</td>\n",
       "      <td>530.478</td>\n",
       "      <td>54.0</td>\n",
       "      <td>4.0</td>\n",
       "      <td>564.760</td>\n",
       "      <td>-77.495</td>\n",
       "      <td>2012</td>\n",
       "      <td>MALE</td>\n",
       "      <td>AAL</td>\n",
       "    </tr>\n",
       "    <tr>\n",
       "      <th>13</th>\n",
       "      <td>Gary F. Kennedy</td>\n",
       "      <td>AMERICAN AIRLINES GROUP INC</td>\n",
       "      <td>522.000</td>\n",
       "      <td>57.0</td>\n",
       "      <td>5.0</td>\n",
       "      <td>560.047</td>\n",
       "      <td>-65.240</td>\n",
       "      <td>2012</td>\n",
       "      <td>MALE</td>\n",
       "      <td>AAL</td>\n",
       "    </tr>\n",
       "    <tr>\n",
       "      <th>14</th>\n",
       "      <td>Thomas W. Horton</td>\n",
       "      <td>AMERICAN AIRLINES GROUP INC</td>\n",
       "      <td>618.135</td>\n",
       "      <td>50.0</td>\n",
       "      <td>1.0</td>\n",
       "      <td>656.226</td>\n",
       "      <td>-80.184</td>\n",
       "      <td>2012</td>\n",
       "      <td>MALE</td>\n",
       "      <td>AAL</td>\n",
       "    </tr>\n",
       "    <tr>\n",
       "      <th>15</th>\n",
       "      <td>Isabella Davidov Goren</td>\n",
       "      <td>AMERICAN AIRLINES GROUP INC</td>\n",
       "      <td>540.385</td>\n",
       "      <td>51.0</td>\n",
       "      <td>3.0</td>\n",
       "      <td>577.841</td>\n",
       "      <td>-63.868</td>\n",
       "      <td>2012</td>\n",
       "      <td>FEMALE</td>\n",
       "      <td>AAL</td>\n",
       "    </tr>\n",
       "    <tr>\n",
       "      <th>16</th>\n",
       "      <td>James B. Ream</td>\n",
       "      <td>AMERICAN AIRLINES GROUP INC</td>\n",
       "      <td>569.800</td>\n",
       "      <td>56.0</td>\n",
       "      <td>2.0</td>\n",
       "      <td>626.487</td>\n",
       "      <td>NaN</td>\n",
       "      <td>2012</td>\n",
       "      <td>MALE</td>\n",
       "      <td>AAL</td>\n",
       "    </tr>\n",
       "    <tr>\n",
       "      <th>17</th>\n",
       "      <td>Daniel P. Garton</td>\n",
       "      <td>AMERICAN AIRLINES GROUP INC</td>\n",
       "      <td>541.087</td>\n",
       "      <td>55.0</td>\n",
       "      <td>4.0</td>\n",
       "      <td>9742.047</td>\n",
       "      <td>1624.989</td>\n",
       "      <td>2013</td>\n",
       "      <td>MALE</td>\n",
       "      <td>AAL</td>\n",
       "    </tr>\n",
       "    <tr>\n",
       "      <th>18</th>\n",
       "      <td>Thomas W. Horton</td>\n",
       "      <td>AMERICAN AIRLINES GROUP INC</td>\n",
       "      <td>591.911</td>\n",
       "      <td>51.0</td>\n",
       "      <td>1.0</td>\n",
       "      <td>19092.978</td>\n",
       "      <td>2809.513</td>\n",
       "      <td>2013</td>\n",
       "      <td>MALE</td>\n",
       "      <td>AAL</td>\n",
       "    </tr>\n",
       "    <tr>\n",
       "      <th>19</th>\n",
       "      <td>Isabella Davidov Goren</td>\n",
       "      <td>AMERICAN AIRLINES GROUP INC</td>\n",
       "      <td>551.193</td>\n",
       "      <td>52.0</td>\n",
       "      <td>3.0</td>\n",
       "      <td>9241.478</td>\n",
       "      <td>1499.312</td>\n",
       "      <td>2013</td>\n",
       "      <td>FEMALE</td>\n",
       "      <td>AAL</td>\n",
       "    </tr>\n",
       "  </tbody>\n",
       "</table>\n",
       "</div>"
      ],
      "text/plain": [
       "             EXEC_FULLNAME                       CONAME   SALARY   AGE  \\\n",
       "0          Gerard J. Arpey  AMERICAN AIRLINES GROUP INC  669.646  51.0   \n",
       "1         Daniel P. Garton  AMERICAN AIRLINES GROUP INC  530.478  52.0   \n",
       "2          Gary F. Kennedy  AMERICAN AIRLINES GROUP INC  502.543  55.0   \n",
       "3    Robert William Reding  AMERICAN AIRLINES GROUP INC  530.479  60.0   \n",
       "4         Thomas W. Horton  AMERICAN AIRLINES GROUP INC  618.135  48.0   \n",
       "5   Isabella Davidov Goren  AMERICAN AIRLINES GROUP INC  423.993  49.0   \n",
       "6          Gerard J. Arpey  AMERICAN AIRLINES GROUP INC  613.842  52.0   \n",
       "7         Daniel P. Garton  AMERICAN AIRLINES GROUP INC  530.478  53.0   \n",
       "8          Gary F. Kennedy  AMERICAN AIRLINES GROUP INC  522.000  56.0   \n",
       "9    Robert William Reding  AMERICAN AIRLINES GROUP INC  530.479  61.0   \n",
       "10        Thomas W. Horton  AMERICAN AIRLINES GROUP INC  618.135  49.0   \n",
       "11  Isabella Davidov Goren  AMERICAN AIRLINES GROUP INC  508.007  50.0   \n",
       "12        Daniel P. Garton  AMERICAN AIRLINES GROUP INC  530.478  54.0   \n",
       "13         Gary F. Kennedy  AMERICAN AIRLINES GROUP INC  522.000  57.0   \n",
       "14        Thomas W. Horton  AMERICAN AIRLINES GROUP INC  618.135  50.0   \n",
       "15  Isabella Davidov Goren  AMERICAN AIRLINES GROUP INC  540.385  51.0   \n",
       "16           James B. Ream  AMERICAN AIRLINES GROUP INC  569.800  56.0   \n",
       "17        Daniel P. Garton  AMERICAN AIRLINES GROUP INC  541.087  55.0   \n",
       "18        Thomas W. Horton  AMERICAN AIRLINES GROUP INC  591.911  51.0   \n",
       "19  Isabella Davidov Goren  AMERICAN AIRLINES GROUP INC  551.193  52.0   \n",
       "\n",
       "    EXECRANKANN       TDC1  TDC1_PCT  YEAR  GENDER TICKER  \n",
       "0           1.0   5231.393    10.770  2010    MALE    AAL  \n",
       "1           4.0   2372.140     9.762  2010    MALE    AAL  \n",
       "2           5.0   1776.069    28.245  2010    MALE    AAL  \n",
       "3           3.0   2288.908     9.942  2010    MALE    AAL  \n",
       "4           2.0   3142.082    44.956  2010    MALE    AAL  \n",
       "5           6.0   1695.521       NaN  2010  FEMALE    AAL  \n",
       "6           2.0   5526.835     5.647  2011    MALE    AAL  \n",
       "7           4.0   2509.451     5.788  2011    MALE    AAL  \n",
       "8           5.0   1611.182    -9.284  2011    MALE    AAL  \n",
       "9           3.0   2424.863     5.940  2011    MALE    AAL  \n",
       "10          1.0   3311.662     5.397  2011    MALE    AAL  \n",
       "11          6.0   1599.234    -5.679  2011  FEMALE    AAL  \n",
       "12          4.0    564.760   -77.495  2012    MALE    AAL  \n",
       "13          5.0    560.047   -65.240  2012    MALE    AAL  \n",
       "14          1.0    656.226   -80.184  2012    MALE    AAL  \n",
       "15          3.0    577.841   -63.868  2012  FEMALE    AAL  \n",
       "16          2.0    626.487       NaN  2012    MALE    AAL  \n",
       "17          4.0   9742.047  1624.989  2013    MALE    AAL  \n",
       "18          1.0  19092.978  2809.513  2013    MALE    AAL  \n",
       "19          3.0   9241.478  1499.312  2013  FEMALE    AAL  "
      ]
     },
     "execution_count": 10,
     "metadata": {},
     "output_type": "execute_result"
    }
   ],
   "source": [
    "df.head(20)"
   ]
  },
  {
   "cell_type": "code",
   "execution_count": 11,
   "id": "53968872",
   "metadata": {},
   "outputs": [],
   "source": [
    "df1 = df"
   ]
  },
  {
   "cell_type": "code",
   "execution_count": 12,
   "id": "bc8f0d23",
   "metadata": {},
   "outputs": [],
   "source": [
    "# Imputing the missing values od TDC1 column with its mean value \n",
    "df1['TDC1'] = df1['TDC1'].fillna(df1['TDC1'].mean())"
   ]
  },
  {
   "cell_type": "code",
   "execution_count": 13,
   "id": "2c2e2a3b",
   "metadata": {},
   "outputs": [
    {
     "data": {
      "text/plain": [
       "EXEC_FULLNAME       0\n",
       "CONAME              0\n",
       "SALARY              0\n",
       "AGE                88\n",
       "EXECRANKANN      1524\n",
       "TDC1                0\n",
       "TDC1_PCT         5706\n",
       "YEAR                0\n",
       "GENDER              0\n",
       "TICKER              0\n",
       "dtype: int64"
      ]
     },
     "execution_count": 13,
     "metadata": {},
     "output_type": "execute_result"
    }
   ],
   "source": [
    "df1.isnull().sum()"
   ]
  },
  {
   "cell_type": "code",
   "execution_count": 14,
   "id": "33b4b1e3",
   "metadata": {},
   "outputs": [],
   "source": [
    "#dropping the rows which have age as the missing value as the number is very small compared to the dataset\n",
    "df1 = df1.dropna(subset=['AGE'])"
   ]
  },
  {
   "cell_type": "code",
   "execution_count": 15,
   "id": "c73eeb50",
   "metadata": {},
   "outputs": [
    {
     "data": {
      "text/plain": [
       "EXEC_FULLNAME       0\n",
       "CONAME              0\n",
       "SALARY              0\n",
       "AGE                 0\n",
       "EXECRANKANN      1505\n",
       "TDC1                0\n",
       "TDC1_PCT         5661\n",
       "YEAR                0\n",
       "GENDER              0\n",
       "TICKER              0\n",
       "dtype: int64"
      ]
     },
     "execution_count": 15,
     "metadata": {},
     "output_type": "execute_result"
    }
   ],
   "source": [
    "df1.isnull().sum()"
   ]
  },
  {
   "cell_type": "code",
   "execution_count": 16,
   "id": "797729d6",
   "metadata": {},
   "outputs": [
    {
     "data": {
      "text/plain": [
       "<AxesSubplot:xlabel='TDC1_PCT'>"
      ]
     },
     "execution_count": 16,
     "metadata": {},
     "output_type": "execute_result"
    },
    {
     "data": {
      "image/png": "[encoded data removed]",
      "text/plain": [
       "<Figure size 720x648 with 1 Axes>"
      ]
     },
     "metadata": {
      "needs_background": "light"
     },
     "output_type": "display_data"
    }
   ],
   "source": [
    "fig, ax = plt.subplots(figsize=(10,9))\n",
    "sns.boxplot(df.TDC1_PCT)"
   ]
  },
  {
   "cell_type": "code",
   "execution_count": 17,
   "id": "c41febc2",
   "metadata": {},
   "outputs": [
    {
     "data": {
      "text/plain": [
       "(27204, 10)"
      ]
     },
     "execution_count": 17,
     "metadata": {},
     "output_type": "execute_result"
    }
   ],
   "source": [
    "df1.shape"
   ]
  },
  {
   "cell_type": "code",
   "execution_count": 18,
   "id": "2ee49691",
   "metadata": {},
   "outputs": [
    {
     "data": {
      "text/plain": [
       "<AxesSubplot:xlabel='TDC1_PCT', ylabel='Density'>"
      ]
     },
     "execution_count": 18,
     "metadata": {},
     "output_type": "execute_result"
    },
    {
     "data": {
      "image/png": "[encoded data removed]",
      "text/plain": [
       "<Figure size 720x648 with 1 Axes>"
      ]
     },
     "metadata": {
      "needs_background": "light"
     },
     "output_type": "display_data"
    }
   ],
   "source": [
    "fig, ax = plt.subplots(figsize=(10,9))\n",
    "sns.distplot(df.TDC1_PCT)"
   ]
  },
  {
   "cell_type": "code",
   "execution_count": 19,
   "id": "602e024c",
   "metadata": {},
   "outputs": [
    {
     "data": {
      "text/html": [
       "<div>\n",
       "<style scoped>\n",
       "    .dataframe tbody tr th:only-of-type {\n",
       "        vertical-align: middle;\n",
       "    }\n",
       "\n",
       "    .dataframe tbody tr th {\n",
       "        vertical-align: top;\n",
       "    }\n",
       "\n",
       "    .dataframe thead th {\n",
       "        text-align: right;\n",
       "    }\n",
       "</style>\n",
       "<table border=\"1\" class=\"dataframe\">\n",
       "  <thead>\n",
       "    <tr style=\"text-align: right;\">\n",
       "      <th></th>\n",
       "      <th>EXEC_FULLNAME</th>\n",
       "      <th>CONAME</th>\n",
       "      <th>SALARY</th>\n",
       "      <th>AGE</th>\n",
       "      <th>EXECRANKANN</th>\n",
       "      <th>TDC1</th>\n",
       "      <th>TDC1_PCT</th>\n",
       "      <th>YEAR</th>\n",
       "      <th>GENDER</th>\n",
       "      <th>TICKER</th>\n",
       "    </tr>\n",
       "  </thead>\n",
       "  <tbody>\n",
       "    <tr>\n",
       "      <th>0</th>\n",
       "      <td>Gerard J. Arpey</td>\n",
       "      <td>AMERICAN AIRLINES GROUP INC</td>\n",
       "      <td>669.646</td>\n",
       "      <td>51.0</td>\n",
       "      <td>1.0</td>\n",
       "      <td>5231.393</td>\n",
       "      <td>10.770</td>\n",
       "      <td>2010</td>\n",
       "      <td>MALE</td>\n",
       "      <td>AAL</td>\n",
       "    </tr>\n",
       "    <tr>\n",
       "      <th>1</th>\n",
       "      <td>Daniel P. Garton</td>\n",
       "      <td>AMERICAN AIRLINES GROUP INC</td>\n",
       "      <td>530.478</td>\n",
       "      <td>52.0</td>\n",
       "      <td>4.0</td>\n",
       "      <td>2372.140</td>\n",
       "      <td>9.762</td>\n",
       "      <td>2010</td>\n",
       "      <td>MALE</td>\n",
       "      <td>AAL</td>\n",
       "    </tr>\n",
       "    <tr>\n",
       "      <th>2</th>\n",
       "      <td>Gary F. Kennedy</td>\n",
       "      <td>AMERICAN AIRLINES GROUP INC</td>\n",
       "      <td>502.543</td>\n",
       "      <td>55.0</td>\n",
       "      <td>5.0</td>\n",
       "      <td>1776.069</td>\n",
       "      <td>28.245</td>\n",
       "      <td>2010</td>\n",
       "      <td>MALE</td>\n",
       "      <td>AAL</td>\n",
       "    </tr>\n",
       "    <tr>\n",
       "      <th>3</th>\n",
       "      <td>Robert William Reding</td>\n",
       "      <td>AMERICAN AIRLINES GROUP INC</td>\n",
       "      <td>530.479</td>\n",
       "      <td>60.0</td>\n",
       "      <td>3.0</td>\n",
       "      <td>2288.908</td>\n",
       "      <td>9.942</td>\n",
       "      <td>2010</td>\n",
       "      <td>MALE</td>\n",
       "      <td>AAL</td>\n",
       "    </tr>\n",
       "    <tr>\n",
       "      <th>4</th>\n",
       "      <td>Thomas W. Horton</td>\n",
       "      <td>AMERICAN AIRLINES GROUP INC</td>\n",
       "      <td>618.135</td>\n",
       "      <td>48.0</td>\n",
       "      <td>2.0</td>\n",
       "      <td>3142.082</td>\n",
       "      <td>44.956</td>\n",
       "      <td>2010</td>\n",
       "      <td>MALE</td>\n",
       "      <td>AAL</td>\n",
       "    </tr>\n",
       "  </tbody>\n",
       "</table>\n",
       "</div>"
      ],
      "text/plain": [
       "           EXEC_FULLNAME                       CONAME   SALARY   AGE  \\\n",
       "0        Gerard J. Arpey  AMERICAN AIRLINES GROUP INC  669.646  51.0   \n",
       "1       Daniel P. Garton  AMERICAN AIRLINES GROUP INC  530.478  52.0   \n",
       "2        Gary F. Kennedy  AMERICAN AIRLINES GROUP INC  502.543  55.0   \n",
       "3  Robert William Reding  AMERICAN AIRLINES GROUP INC  530.479  60.0   \n",
       "4       Thomas W. Horton  AMERICAN AIRLINES GROUP INC  618.135  48.0   \n",
       "\n",
       "   EXECRANKANN      TDC1  TDC1_PCT  YEAR GENDER TICKER  \n",
       "0          1.0  5231.393    10.770  2010   MALE    AAL  \n",
       "1          4.0  2372.140     9.762  2010   MALE    AAL  \n",
       "2          5.0  1776.069    28.245  2010   MALE    AAL  \n",
       "3          3.0  2288.908     9.942  2010   MALE    AAL  \n",
       "4          2.0  3142.082    44.956  2010   MALE    AAL  "
      ]
     },
     "execution_count": 19,
     "metadata": {},
     "output_type": "execute_result"
    }
   ],
   "source": [
    "df2 = df1[(df1['TDC1_PCT'] < 62) & (df1['TDC1_PCT']>-55)]\n",
    "df2.head()"
   ]
  },
  {
   "cell_type": "code",
   "execution_count": 20,
   "id": "1ca9d64d",
   "metadata": {},
   "outputs": [
    {
     "data": {
      "text/plain": [
       "(17202, 10)"
      ]
     },
     "execution_count": 20,
     "metadata": {},
     "output_type": "execute_result"
    }
   ],
   "source": [
    "df2.shape"
   ]
  },
  {
   "cell_type": "code",
   "execution_count": 21,
   "id": "c731e2de",
   "metadata": {},
   "outputs": [
    {
     "data": {
      "text/plain": [
       "<AxesSubplot:xlabel='TDC1_PCT'>"
      ]
     },
     "execution_count": 21,
     "metadata": {},
     "output_type": "execute_result"
    },
    {
     "data": {
      "image/png": "[encoded data removed]",
      "text/plain": [
       "<Figure size 720x648 with 1 Axes>"
      ]
     },
     "metadata": {
      "needs_background": "light"
     },
     "output_type": "display_data"
    }
   ],
   "source": [
    "fig, ax = plt.subplots(figsize=(10,9))\n",
    "sns.boxplot(df2.TDC1_PCT)"
   ]
  },
  {
   "cell_type": "code",
   "execution_count": 22,
   "id": "59730f9b",
   "metadata": {},
   "outputs": [
    {
     "data": {
      "text/plain": [
       "<AxesSubplot:xlabel='TDC1_PCT', ylabel='Density'>"
      ]
     },
     "execution_count": 22,
     "metadata": {},
     "output_type": "execute_result"
    },
    {
     "data": {
      "image/png": "[encoded data removed]",
      "text/plain": [
       "<Figure size 720x648 with 1 Axes>"
      ]
     },
     "metadata": {
      "needs_background": "light"
     },
     "output_type": "display_data"
    }
   ],
   "source": [
    "fig, ax = plt.subplots(figsize=(10,9))\n",
    "sns.distplot(df2.TDC1_PCT)"
   ]
  },
  {
   "cell_type": "markdown",
   "id": "ccf88e0d",
   "metadata": {},
   "source": [
    "- We can see that the percentage change between -55 and 62 is the ideal percentage change and all other outliers\n",
    "- A perfectly normal distribution is observed inside this range "
   ]
  },
  {
   "cell_type": "markdown",
   "id": "7f55b236",
   "metadata": {},
   "source": [
    "As TDC1_pct is an important column we cannot remove the column nor the rows which has missing values as it adds upto an significant 28% approximately\n",
    "Therfore, the analysis can be done in two parts namely:\n",
    "    1. one with outliers \n",
    "    2. one without the outliers\n",
    "    \n",
    "The analysis then can be reviewed to check whether the outlier removal has a great impact on our analysis or not "
   ]
  },
  {
   "cell_type": "markdown",
   "id": "4362d1a0",
   "metadata": {},
   "source": [
    "# The one with the Outliers"
   ]
  },
  {
   "cell_type": "code",
   "execution_count": 23,
   "id": "5fc19bfa",
   "metadata": {},
   "outputs": [
    {
     "data": {
      "text/plain": [
       "EXEC_FULLNAME       0\n",
       "CONAME              0\n",
       "SALARY              0\n",
       "AGE                 0\n",
       "EXECRANKANN      1505\n",
       "TDC1                0\n",
       "TDC1_PCT         5661\n",
       "YEAR                0\n",
       "GENDER              0\n",
       "TICKER              0\n",
       "dtype: int64"
      ]
     },
     "execution_count": 23,
     "metadata": {},
     "output_type": "execute_result"
    }
   ],
   "source": [
    "df1.isnull().sum()"
   ]
  },
  {
   "cell_type": "code",
   "execution_count": 24,
   "id": "6077ecae",
   "metadata": {},
   "outputs": [],
   "source": [
    "df1['EXECRANKANN'] = df1['EXECRANKANN'].fillna(df1['EXECRANKANN'].mode()[0])"
   ]
  },
  {
   "cell_type": "code",
   "execution_count": 25,
   "id": "a3ab1afe",
   "metadata": {},
   "outputs": [
    {
     "data": {
      "text/plain": [
       "EXEC_FULLNAME       0\n",
       "CONAME              0\n",
       "SALARY              0\n",
       "AGE                 0\n",
       "EXECRANKANN         0\n",
       "TDC1                0\n",
       "TDC1_PCT         5661\n",
       "YEAR                0\n",
       "GENDER              0\n",
       "TICKER              0\n",
       "dtype: int64"
      ]
     },
     "execution_count": 25,
     "metadata": {},
     "output_type": "execute_result"
    }
   ],
   "source": [
    "df1.isnull().sum()"
   ]
  },
  {
   "cell_type": "code",
   "execution_count": 26,
   "id": "a4ff5b67",
   "metadata": {},
   "outputs": [
    {
     "name": "stdout",
     "output_type": "stream",
     "text": [
      "<class 'pandas.core.frame.DataFrame'>\n",
      "Int64Index: 27204 entries, 0 to 27291\n",
      "Data columns (total 10 columns):\n",
      " #   Column         Non-Null Count  Dtype  \n",
      "---  ------         --------------  -----  \n",
      " 0   EXEC_FULLNAME  27204 non-null  object \n",
      " 1   CONAME         27204 non-null  object \n",
      " 2   SALARY         27204 non-null  float64\n",
      " 3   AGE            27204 non-null  float64\n",
      " 4   EXECRANKANN    27204 non-null  float64\n",
      " 5   TDC1           27204 non-null  float64\n",
      " 6   TDC1_PCT       21543 non-null  float64\n",
      " 7   YEAR           27204 non-null  int64  \n",
      " 8   GENDER         27204 non-null  object \n",
      " 9   TICKER         27204 non-null  object \n",
      "dtypes: float64(5), int64(1), object(4)\n",
      "memory usage: 2.3+ MB\n"
     ]
    }
   ],
   "source": [
    "df1.info()"
   ]
  },
  {
   "cell_type": "code",
   "execution_count": 27,
   "id": "47567603",
   "metadata": {},
   "outputs": [
    {
     "data": {
      "text/plain": [
       "<AxesSubplot:xlabel='TDC1_PCT'>"
      ]
     },
     "execution_count": 27,
     "metadata": {},
     "output_type": "execute_result"
    },
    {
     "data": {
      "image/png": "[encoded data removed]",
      "text/plain": [
       "<Figure size 720x648 with 1 Axes>"
      ]
     },
     "metadata": {
      "needs_background": "light"
     },
     "output_type": "display_data"
    }
   ],
   "source": [
    "fig, ax = plt.subplots(figsize=(10,9))\n",
    "sns.boxplot(df1.TDC1_PCT)"
   ]
  },
  {
   "cell_type": "code",
   "execution_count": 28,
   "id": "ad6b65ec",
   "metadata": {},
   "outputs": [
    {
     "data": {
      "text/plain": [
       "(27204, 10)"
      ]
     },
     "execution_count": 28,
     "metadata": {},
     "output_type": "execute_result"
    }
   ],
   "source": [
    "df1.shape"
   ]
  },
  {
   "cell_type": "code",
   "execution_count": 29,
   "id": "9ac11975",
   "metadata": {},
   "outputs": [],
   "source": [
    "df1['TDC1_PCT'] = df1['TDC1_PCT'].fillna(df1['TDC1_PCT'].mean())"
   ]
  },
  {
   "cell_type": "code",
   "execution_count": 30,
   "id": "0941d8bc",
   "metadata": {},
   "outputs": [
    {
     "data": {
      "text/plain": [
       "EXEC_FULLNAME    0\n",
       "CONAME           0\n",
       "SALARY           0\n",
       "AGE              0\n",
       "EXECRANKANN      0\n",
       "TDC1             0\n",
       "TDC1_PCT         0\n",
       "YEAR             0\n",
       "GENDER           0\n",
       "TICKER           0\n",
       "dtype: int64"
      ]
     },
     "execution_count": 30,
     "metadata": {},
     "output_type": "execute_result"
    }
   ],
   "source": [
    "df1.isnull().sum()"
   ]
  },
  {
   "cell_type": "markdown",
   "id": "971e1c4e",
   "metadata": {},
   "source": [
    "As the executive pay is very much dependent on the stock price of the company it would be significant to add the stock price of the company over the years"
   ]
  },
  {
   "cell_type": "code",
   "execution_count": 31,
   "id": "02e5a705",
   "metadata": {},
   "outputs": [],
   "source": [
    "import yfinance as yf"
   ]
  },
  {
   "cell_type": "code",
   "execution_count": 32,
   "id": "b42ad86c",
   "metadata": {},
   "outputs": [],
   "source": [
    "stk = df1['TICKER'].unique()"
   ]
  },
  {
   "cell_type": "code",
   "execution_count": 33,
   "id": "e8269def",
   "metadata": {},
   "outputs": [
    {
     "data": {
      "text/plain": [
       "497"
      ]
     },
     "execution_count": 33,
     "metadata": {},
     "output_type": "execute_result"
    }
   ],
   "source": [
    "df1['TICKER'].nunique()"
   ]
  },
  {
   "cell_type": "code",
   "execution_count": 34,
   "id": "586afed4",
   "metadata": {},
   "outputs": [
    {
     "data": {
      "text/plain": [
       "array(['AAL', 'PNW', 'ABT', 'AMD', 'APD', 'ALK', 'HON', 'SWKS', 'HES',\n",
       "       'AEP', 'AXP', 'AFL', 'AIG', 'AME', 'AMGN', 'ADI', 'APA', 'AAPL',\n",
       "       'AMAT', 'ADM', 'ADSK', 'ADP', 'AVY', 'BLL', 'BK', 'BAX', 'BDX',\n",
       "       'VZ', 'BRK.B', 'BBY', 'BIO', 'BA', 'RHI', 'BMY', 'BF.B', 'CI',\n",
       "       'CSX', 'CPB', 'STZ', 'CAH', 'CAT', 'LUMN', 'JPM', 'CVX', 'CHD',\n",
       "       'CTAS', 'CLX', 'KO', 'CL', 'AON', 'CMCSA', 'CMA', 'C', 'DXC',\n",
       "       'CAG', 'ED', 'CMS', 'COO', 'TAP', 'GLW', 'CMI', 'DHR', 'TGT', 'DE',\n",
       "       'DAL', 'DTE', 'DIS', 'DG', 'D', 'DOV', 'DD', 'OMC', 'DUK', 'PKI',\n",
       "       'ETN', 'ECL', 'EMR', 'ATO', 'EFX', 'EXPD', 'XOM', 'FMC', 'NEE',\n",
       "       'FDX', 'FRT', 'FITB', 'RF', 'MTB', 'USB', 'F', 'BEN', 'AJG', 'GPS',\n",
       "       'GD', 'GE', 'GIS', 'GM', 'GPC', 'GWW', 'HAL', 'LHX', 'HAS', 'WELL',\n",
       "       'KHC', 'HSY', 'HPQ', 'HLT', 'HFC', 'HD', 'HRL', 'CNP', 'JBHT',\n",
       "       'HBAN', 'ITW', 'TT', 'INTC', 'IBM', 'IFF', 'IP', 'IPG', 'J', 'JNJ',\n",
       "       'JCI', 'KLAC', 'KMI', 'KSU', 'EVRG', 'K', 'KMB', 'KR', 'LRCX',\n",
       "       'LEG', 'LEN', 'LLY', 'LB', 'LNC', 'LMT', 'L', 'LOW', 'MRO', 'HST',\n",
       "       'MMC', 'MAS', 'MKC', 'MCD', 'SPGI', 'MCK', 'MDT', 'CVS', 'MRK',\n",
       "       'MU', 'ETR', 'MMM', 'MSI', 'VTRS', 'BAC', 'NWL', 'NEM', 'NKE',\n",
       "       'NSC', 'ES', 'NI', 'XEL', 'NTRS', 'NOC', 'WFC', 'NUE', 'OXY', 'FE',\n",
       "       'OKE', 'PNC', 'PPG', 'PCAR', 'SRE', 'PH', 'PAYX', 'PPL', 'PNR',\n",
       "       'PEP', 'PFE', 'EXC', 'MO', 'COP', 'PVH', 'PG', 'PEG', 'PHM', 'RJF',\n",
       "       'ROK', 'ROL', 'ROST', 'SLB', 'SEE', 'SHW', 'AOS', 'SJM', 'SNA',\n",
       "       'KEY', 'EIX', 'SO', 'LUV', 'T', 'SWK', 'STT', 'PSA', 'SYK', 'SYY',\n",
       "       'TFX', 'TER', 'TXN', 'TXT', 'TMO', 'GL', 'TYL', 'TSN', 'UAL',\n",
       "       'AEE', 'UNP', 'UDR', 'UNH', 'UPS', 'RTX', 'UHS', 'VFC', 'VAR',\n",
       "       'VNO', 'VMC', 'WMT', 'WBA', 'WST', 'WDC', 'WY', 'WHR', 'WMB',\n",
       "       'WEC', 'LNT', 'TJX', 'ZION', 'JKHY', 'TFC', 'MS', 'TROW', 'MSFT',\n",
       "       'ORCL', 'IT', 'NVR', 'ADBE', 'FISV', 'UNM', 'CERN', 'PEAK', 'PGR',\n",
       "       'CDNS', 'CCL', 'DRE', 'ABMD', 'XRAY', 'VIAC', 'ZTS', 'SCHW',\n",
       "       'FAST', 'MXIM', 'FRC', 'APH', 'PXD', 'MGM', 'WM', 'FCX', 'WRB',\n",
       "       'CINF', 'DVN', 'LH', 'VLO', 'IEX', 'NLOK', 'ABBV', 'PBCT', 'EOG',\n",
       "       'EA', 'SIVB', 'TMUS', 'IQV', 'NWSA', 'TWTR', 'PAYC', 'CTLT',\n",
       "       'KEYS', 'COG', 'SYF', 'ANET', 'CSCO', 'HOLX', 'CZR', 'CFG', 'HCA',\n",
       "       'XLNX', 'TRMB', 'ETSY', 'AZO', 'REGN', 'IDXX', 'AES', 'MNST',\n",
       "       'VRTX', 'ZBRA', 'BIIB', 'PYPL', 'ODFL', 'KIM', 'PRGO', 'QCOM',\n",
       "       'GILD', 'ROP', 'SNPS', 'MHK', 'LIN', 'BSX', 'STE', 'DHI', 'SBUX',\n",
       "       'HPE', 'FTV', 'HUM', 'INTU', 'MCHP', 'CB', 'ORLY', 'RCL', 'HWM',\n",
       "       'CDW', 'ALL', 'FLIR', 'EQR', 'BWA', 'LW', 'MAR', 'COST', 'REG',\n",
       "       'INCY', 'SPG', 'EMN', 'MAA', 'MLM', 'TSCO', 'ALB', 'IVZ', 'WRK',\n",
       "       'AVB', 'CPRT', 'PLD', 'IR', 'PENN', 'ESS', 'O', 'COF', 'DLTR',\n",
       "       'ABC', 'DRI', 'RMD', 'BKR', 'DOW', 'FOXA', 'CTVA', 'DISH', 'WAB',\n",
       "       'RE', 'POOL', 'DVA', 'HSIC', 'EL', 'WAT', 'NTAP', 'CTXS', 'HIG',\n",
       "       'ALXN', 'IRM', 'TRV', 'ANSS', 'NOV', 'DGX', 'KMX', 'TTWO', 'AMZN',\n",
       "       'ARE', 'QRVO', 'RL', 'BXP', 'YUM', 'CHRW', 'MTD', 'URI', 'VRSN',\n",
       "       'PWR', 'AMCR', 'NLSN', 'NCLH', 'AMT', 'VTR', 'CTSH', 'RSG', 'CCI',\n",
       "       'EBAY', 'GS', 'NVDA', 'APTV', 'BKNG', 'FFIV', 'SBAC', 'JNPR',\n",
       "       'BLK', 'AKAM', 'CHTR', 'EXPE', 'A', 'TDY', 'PKG', 'EW', 'MET',\n",
       "       'NRG', 'ISRG', 'ILMN', 'EQIX', 'MCO', 'TPR', 'ALGN', 'GRMN', 'GPN',\n",
       "       'MDLZ', 'PRU', 'ACN', 'WLTW', 'ZBH', 'ANTM', 'CNC', 'PFG', 'AAP',\n",
       "       'NFLX', 'TDG', 'CME', 'WYNN', 'NDAQ', 'STX', 'LKQ', 'AIZ', 'CRM',\n",
       "       'MKTX', 'DPZ', 'MA', 'GOOGL', 'EXR', 'MPWR', 'DLR', 'LVS', 'MOS',\n",
       "       'CE', 'DXCM', 'INFO', 'ICE', 'CF', 'DISCA', 'AMP', 'UAA', 'LDOS',\n",
       "       'LYV', 'CMG', 'FIS', 'FB', 'FANG', 'PSX', 'NOW', 'WU', 'HBI',\n",
       "       'IPGP', 'BR', 'TEL', 'DFS', 'MSCI', 'ULTA', 'AWK', 'V', 'PM',\n",
       "       'ATVI', 'VRSK', 'AVGO', 'FTNT', 'GNRC', 'CBOE', 'FLT', 'TSLA',\n",
       "       'HII', 'MPC', 'ENPH', 'FBHS', 'XYL', 'CBRE', 'LYB', 'ALLE'],\n",
       "      dtype=object)"
      ]
     },
     "execution_count": 34,
     "metadata": {},
     "output_type": "execute_result"
    }
   ],
   "source": [
    "stk"
   ]
  },
  {
   "cell_type": "code",
   "execution_count": 35,
   "id": "56bbadce",
   "metadata": {},
   "outputs": [
    {
     "data": {
      "text/html": [
       "<div>\n",
       "<style scoped>\n",
       "    .dataframe tbody tr th:only-of-type {\n",
       "        vertical-align: middle;\n",
       "    }\n",
       "\n",
       "    .dataframe tbody tr th {\n",
       "        vertical-align: top;\n",
       "    }\n",
       "\n",
       "    .dataframe thead th {\n",
       "        text-align: right;\n",
       "    }\n",
       "</style>\n",
       "<table border=\"1\" class=\"dataframe\">\n",
       "  <thead>\n",
       "    <tr style=\"text-align: right;\">\n",
       "      <th></th>\n",
       "      <th>EXEC_FULLNAME</th>\n",
       "      <th>CONAME</th>\n",
       "      <th>SALARY</th>\n",
       "      <th>AGE</th>\n",
       "      <th>EXECRANKANN</th>\n",
       "      <th>TDC1</th>\n",
       "      <th>TDC1_PCT</th>\n",
       "      <th>YEAR</th>\n",
       "      <th>GENDER</th>\n",
       "      <th>TICKER</th>\n",
       "    </tr>\n",
       "  </thead>\n",
       "  <tbody>\n",
       "    <tr>\n",
       "      <th>0</th>\n",
       "      <td>Gerard J. Arpey</td>\n",
       "      <td>AMERICAN AIRLINES GROUP INC</td>\n",
       "      <td>669.646</td>\n",
       "      <td>51.0</td>\n",
       "      <td>1.0</td>\n",
       "      <td>5231.393</td>\n",
       "      <td>10.770</td>\n",
       "      <td>2010</td>\n",
       "      <td>MALE</td>\n",
       "      <td>AAL</td>\n",
       "    </tr>\n",
       "    <tr>\n",
       "      <th>1</th>\n",
       "      <td>Daniel P. Garton</td>\n",
       "      <td>AMERICAN AIRLINES GROUP INC</td>\n",
       "      <td>530.478</td>\n",
       "      <td>52.0</td>\n",
       "      <td>4.0</td>\n",
       "      <td>2372.140</td>\n",
       "      <td>9.762</td>\n",
       "      <td>2010</td>\n",
       "      <td>MALE</td>\n",
       "      <td>AAL</td>\n",
       "    </tr>\n",
       "    <tr>\n",
       "      <th>2</th>\n",
       "      <td>Gary F. Kennedy</td>\n",
       "      <td>AMERICAN AIRLINES GROUP INC</td>\n",
       "      <td>502.543</td>\n",
       "      <td>55.0</td>\n",
       "      <td>5.0</td>\n",
       "      <td>1776.069</td>\n",
       "      <td>28.245</td>\n",
       "      <td>2010</td>\n",
       "      <td>MALE</td>\n",
       "      <td>AAL</td>\n",
       "    </tr>\n",
       "    <tr>\n",
       "      <th>3</th>\n",
       "      <td>Robert William Reding</td>\n",
       "      <td>AMERICAN AIRLINES GROUP INC</td>\n",
       "      <td>530.479</td>\n",
       "      <td>60.0</td>\n",
       "      <td>3.0</td>\n",
       "      <td>2288.908</td>\n",
       "      <td>9.942</td>\n",
       "      <td>2010</td>\n",
       "      <td>MALE</td>\n",
       "      <td>AAL</td>\n",
       "    </tr>\n",
       "    <tr>\n",
       "      <th>4</th>\n",
       "      <td>Thomas W. Horton</td>\n",
       "      <td>AMERICAN AIRLINES GROUP INC</td>\n",
       "      <td>618.135</td>\n",
       "      <td>48.0</td>\n",
       "      <td>2.0</td>\n",
       "      <td>3142.082</td>\n",
       "      <td>44.956</td>\n",
       "      <td>2010</td>\n",
       "      <td>MALE</td>\n",
       "      <td>AAL</td>\n",
       "    </tr>\n",
       "  </tbody>\n",
       "</table>\n",
       "</div>"
      ],
      "text/plain": [
       "           EXEC_FULLNAME                       CONAME   SALARY   AGE  \\\n",
       "0        Gerard J. Arpey  AMERICAN AIRLINES GROUP INC  669.646  51.0   \n",
       "1       Daniel P. Garton  AMERICAN AIRLINES GROUP INC  530.478  52.0   \n",
       "2        Gary F. Kennedy  AMERICAN AIRLINES GROUP INC  502.543  55.0   \n",
       "3  Robert William Reding  AMERICAN AIRLINES GROUP INC  530.479  60.0   \n",
       "4       Thomas W. Horton  AMERICAN AIRLINES GROUP INC  618.135  48.0   \n",
       "\n",
       "   EXECRANKANN      TDC1  TDC1_PCT  YEAR GENDER TICKER  \n",
       "0          1.0  5231.393    10.770  2010   MALE    AAL  \n",
       "1          4.0  2372.140     9.762  2010   MALE    AAL  \n",
       "2          5.0  1776.069    28.245  2010   MALE    AAL  \n",
       "3          3.0  2288.908     9.942  2010   MALE    AAL  \n",
       "4          2.0  3142.082    44.956  2010   MALE    AAL  "
      ]
     },
     "execution_count": 35,
     "metadata": {},
     "output_type": "execute_result"
    }
   ],
   "source": [
    "df1.head()"
   ]
  },
  {
   "cell_type": "code",
   "execution_count": 36,
   "id": "2973bfd2",
   "metadata": {},
   "outputs": [
    {
     "data": {
      "text/html": [
       "<div>\n",
       "<style scoped>\n",
       "    .dataframe tbody tr th:only-of-type {\n",
       "        vertical-align: middle;\n",
       "    }\n",
       "\n",
       "    .dataframe tbody tr th {\n",
       "        vertical-align: top;\n",
       "    }\n",
       "\n",
       "    .dataframe thead th {\n",
       "        text-align: right;\n",
       "    }\n",
       "</style>\n",
       "<table border=\"1\" class=\"dataframe\">\n",
       "  <thead>\n",
       "    <tr style=\"text-align: right;\">\n",
       "      <th></th>\n",
       "      <th>SALARY</th>\n",
       "      <th>AGE</th>\n",
       "      <th>EXECRANKANN</th>\n",
       "      <th>TDC1</th>\n",
       "      <th>TDC1_PCT</th>\n",
       "      <th>YEAR</th>\n",
       "    </tr>\n",
       "  </thead>\n",
       "  <tbody>\n",
       "    <tr>\n",
       "      <th>SALARY</th>\n",
       "      <td>1.000000</td>\n",
       "      <td>0.210284</td>\n",
       "      <td>-0.362040</td>\n",
       "      <td>0.397514</td>\n",
       "      <td>-0.015756</td>\n",
       "      <td>0.097474</td>\n",
       "    </tr>\n",
       "    <tr>\n",
       "      <th>AGE</th>\n",
       "      <td>0.210284</td>\n",
       "      <td>1.000000</td>\n",
       "      <td>-0.132775</td>\n",
       "      <td>0.114072</td>\n",
       "      <td>-0.020654</td>\n",
       "      <td>0.105342</td>\n",
       "    </tr>\n",
       "    <tr>\n",
       "      <th>EXECRANKANN</th>\n",
       "      <td>-0.362040</td>\n",
       "      <td>-0.132775</td>\n",
       "      <td>1.000000</td>\n",
       "      <td>-0.275762</td>\n",
       "      <td>0.004266</td>\n",
       "      <td>-0.014391</td>\n",
       "    </tr>\n",
       "    <tr>\n",
       "      <th>TDC1</th>\n",
       "      <td>0.397514</td>\n",
       "      <td>0.114072</td>\n",
       "      <td>-0.275762</td>\n",
       "      <td>1.000000</td>\n",
       "      <td>0.107460</td>\n",
       "      <td>0.064248</td>\n",
       "    </tr>\n",
       "    <tr>\n",
       "      <th>TDC1_PCT</th>\n",
       "      <td>-0.015756</td>\n",
       "      <td>-0.020654</td>\n",
       "      <td>0.004266</td>\n",
       "      <td>0.107460</td>\n",
       "      <td>1.000000</td>\n",
       "      <td>-0.004638</td>\n",
       "    </tr>\n",
       "    <tr>\n",
       "      <th>YEAR</th>\n",
       "      <td>0.097474</td>\n",
       "      <td>0.105342</td>\n",
       "      <td>-0.014391</td>\n",
       "      <td>0.064248</td>\n",
       "      <td>-0.004638</td>\n",
       "      <td>1.000000</td>\n",
       "    </tr>\n",
       "  </tbody>\n",
       "</table>\n",
       "</div>"
      ],
      "text/plain": [
       "               SALARY       AGE  EXECRANKANN      TDC1  TDC1_PCT      YEAR\n",
       "SALARY       1.000000  0.210284    -0.362040  0.397514 -0.015756  0.097474\n",
       "AGE          0.210284  1.000000    -0.132775  0.114072 -0.020654  0.105342\n",
       "EXECRANKANN -0.362040 -0.132775     1.000000 -0.275762  0.004266 -0.014391\n",
       "TDC1         0.397514  0.114072    -0.275762  1.000000  0.107460  0.064248\n",
       "TDC1_PCT    -0.015756 -0.020654     0.004266  0.107460  1.000000 -0.004638\n",
       "YEAR         0.097474  0.105342    -0.014391  0.064248 -0.004638  1.000000"
      ]
     },
     "execution_count": 36,
     "metadata": {},
     "output_type": "execute_result"
    }
   ],
   "source": [
    "df1.corr()"
   ]
  },
  {
   "cell_type": "code",
   "execution_count": 37,
   "id": "7af2d993",
   "metadata": {
    "scrolled": true
   },
   "outputs": [
    {
     "data": {
      "text/plain": [
       "Index(['EXEC_FULLNAME', 'CONAME', 'SALARY', 'AGE', 'EXECRANKANN', 'TDC1',\n",
       "       'TDC1_PCT', 'YEAR', 'GENDER', 'TICKER'],\n",
       "      dtype='object')"
      ]
     },
     "execution_count": 37,
     "metadata": {},
     "output_type": "execute_result"
    }
   ],
   "source": [
    "df1.columns"
   ]
  },
  {
   "cell_type": "code",
   "execution_count": 38,
   "id": "e278e270",
   "metadata": {},
   "outputs": [],
   "source": [
    "d = ['SALARY', 'AGE', 'EXECRANKANN', 'TDC1',\n",
    "       'TDC1_PCT']"
   ]
  },
  {
   "cell_type": "code",
   "execution_count": 39,
   "id": "9a3c6768",
   "metadata": {},
   "outputs": [
    {
     "data": {
      "image/png": "[encoded data removed]",
      "text/plain": [
       "<Figure size 432x288 with 1 Axes>"
      ]
     },
     "metadata": {
      "needs_background": "light"
     },
     "output_type": "display_data"
    },
    {
     "data": {
      "image/png": "[encoded data removed]",
      "text/plain": [
       "<Figure size 432x288 with 1 Axes>"
      ]
     },
     "metadata": {
      "needs_background": "light"
     },
     "output_type": "display_data"
    },
    {
     "data": {
      "image/png": "[encoded data removed]",
      "text/plain": [
       "<Figure size 432x288 with 1 Axes>"
      ]
     },
     "metadata": {
      "needs_background": "light"
     },
     "output_type": "display_data"
    },
    {
     "data": {
      "image/png": "[encoded data removed]",
      "text/plain": [
       "<Figure size 432x288 with 1 Axes>"
      ]
     },
     "metadata": {
      "needs_background": "light"
     },
     "output_type": "display_data"
    },
    {
     "data": {
      "image/png": "[encoded data removed]",
      "text/plain": [
       "<Figure size 432x288 with 1 Axes>"
      ]
     },
     "metadata": {
      "needs_background": "light"
     },
     "output_type": "display_data"
    }
   ],
   "source": [
    "for c in d:\n",
    "    plt.figure()\n",
    "    df1.boxplot([c])"
   ]
  },
  {
   "cell_type": "code",
   "execution_count": 40,
   "id": "1cbafdf0",
   "metadata": {},
   "outputs": [
    {
     "data": {
      "image/png": "[encoded data removed]",
      "text/plain": [
       "<Figure size 1152x720 with 2 Axes>"
      ]
     },
     "metadata": {
      "needs_background": "light"
     },
     "output_type": "display_data"
    }
   ],
   "source": [
    "plt.figure(figsize = (16, 10))\n",
    "sns.heatmap(df1.corr(), annot = True, cmap=\"YlGnBu\")\n",
    "plt.show()"
   ]
  },
  {
   "cell_type": "code",
   "execution_count": 41,
   "id": "a10cef06",
   "metadata": {},
   "outputs": [
    {
     "data": {
      "text/plain": [
       "MALE      24509\n",
       "FEMALE     2695\n",
       "Name: GENDER, dtype: int64"
      ]
     },
     "execution_count": 41,
     "metadata": {},
     "output_type": "execute_result"
    }
   ],
   "source": [
    "df1['GENDER'].value_counts()"
   ]
  },
  {
   "cell_type": "code",
   "execution_count": 42,
   "id": "76ed81fd",
   "metadata": {},
   "outputs": [],
   "source": [
    "def gen(x):\n",
    "    return x.map({'MALE':0,'FEMALE':1})\n",
    "\n",
    "df1[['GENDER']] = df[['GENDER']].apply(gen)"
   ]
  },
  {
   "cell_type": "code",
   "execution_count": 43,
   "id": "9a1015f3",
   "metadata": {},
   "outputs": [
    {
     "data": {
      "text/html": [
       "<div>\n",
       "<style scoped>\n",
       "    .dataframe tbody tr th:only-of-type {\n",
       "        vertical-align: middle;\n",
       "    }\n",
       "\n",
       "    .dataframe tbody tr th {\n",
       "        vertical-align: top;\n",
       "    }\n",
       "\n",
       "    .dataframe thead th {\n",
       "        text-align: right;\n",
       "    }\n",
       "</style>\n",
       "<table border=\"1\" class=\"dataframe\">\n",
       "  <thead>\n",
       "    <tr style=\"text-align: right;\">\n",
       "      <th></th>\n",
       "      <th>EXEC_FULLNAME</th>\n",
       "      <th>CONAME</th>\n",
       "      <th>SALARY</th>\n",
       "      <th>AGE</th>\n",
       "      <th>EXECRANKANN</th>\n",
       "      <th>TDC1</th>\n",
       "      <th>TDC1_PCT</th>\n",
       "      <th>YEAR</th>\n",
       "      <th>GENDER</th>\n",
       "      <th>TICKER</th>\n",
       "    </tr>\n",
       "  </thead>\n",
       "  <tbody>\n",
       "    <tr>\n",
       "      <th>0</th>\n",
       "      <td>Gerard J. Arpey</td>\n",
       "      <td>AMERICAN AIRLINES GROUP INC</td>\n",
       "      <td>669.646</td>\n",
       "      <td>51.0</td>\n",
       "      <td>1.0</td>\n",
       "      <td>5231.393</td>\n",
       "      <td>10.770</td>\n",
       "      <td>2010</td>\n",
       "      <td>0</td>\n",
       "      <td>AAL</td>\n",
       "    </tr>\n",
       "    <tr>\n",
       "      <th>1</th>\n",
       "      <td>Daniel P. Garton</td>\n",
       "      <td>AMERICAN AIRLINES GROUP INC</td>\n",
       "      <td>530.478</td>\n",
       "      <td>52.0</td>\n",
       "      <td>4.0</td>\n",
       "      <td>2372.140</td>\n",
       "      <td>9.762</td>\n",
       "      <td>2010</td>\n",
       "      <td>0</td>\n",
       "      <td>AAL</td>\n",
       "    </tr>\n",
       "    <tr>\n",
       "      <th>2</th>\n",
       "      <td>Gary F. Kennedy</td>\n",
       "      <td>AMERICAN AIRLINES GROUP INC</td>\n",
       "      <td>502.543</td>\n",
       "      <td>55.0</td>\n",
       "      <td>5.0</td>\n",
       "      <td>1776.069</td>\n",
       "      <td>28.245</td>\n",
       "      <td>2010</td>\n",
       "      <td>0</td>\n",
       "      <td>AAL</td>\n",
       "    </tr>\n",
       "    <tr>\n",
       "      <th>3</th>\n",
       "      <td>Robert William Reding</td>\n",
       "      <td>AMERICAN AIRLINES GROUP INC</td>\n",
       "      <td>530.479</td>\n",
       "      <td>60.0</td>\n",
       "      <td>3.0</td>\n",
       "      <td>2288.908</td>\n",
       "      <td>9.942</td>\n",
       "      <td>2010</td>\n",
       "      <td>0</td>\n",
       "      <td>AAL</td>\n",
       "    </tr>\n",
       "    <tr>\n",
       "      <th>4</th>\n",
       "      <td>Thomas W. Horton</td>\n",
       "      <td>AMERICAN AIRLINES GROUP INC</td>\n",
       "      <td>618.135</td>\n",
       "      <td>48.0</td>\n",
       "      <td>2.0</td>\n",
       "      <td>3142.082</td>\n",
       "      <td>44.956</td>\n",
       "      <td>2010</td>\n",
       "      <td>0</td>\n",
       "      <td>AAL</td>\n",
       "    </tr>\n",
       "  </tbody>\n",
       "</table>\n",
       "</div>"
      ],
      "text/plain": [
       "           EXEC_FULLNAME                       CONAME   SALARY   AGE  \\\n",
       "0        Gerard J. Arpey  AMERICAN AIRLINES GROUP INC  669.646  51.0   \n",
       "1       Daniel P. Garton  AMERICAN AIRLINES GROUP INC  530.478  52.0   \n",
       "2        Gary F. Kennedy  AMERICAN AIRLINES GROUP INC  502.543  55.0   \n",
       "3  Robert William Reding  AMERICAN AIRLINES GROUP INC  530.479  60.0   \n",
       "4       Thomas W. Horton  AMERICAN AIRLINES GROUP INC  618.135  48.0   \n",
       "\n",
       "   EXECRANKANN      TDC1  TDC1_PCT  YEAR  GENDER TICKER  \n",
       "0          1.0  5231.393    10.770  2010       0    AAL  \n",
       "1          4.0  2372.140     9.762  2010       0    AAL  \n",
       "2          5.0  1776.069    28.245  2010       0    AAL  \n",
       "3          3.0  2288.908     9.942  2010       0    AAL  \n",
       "4          2.0  3142.082    44.956  2010       0    AAL  "
      ]
     },
     "execution_count": 43,
     "metadata": {},
     "output_type": "execute_result"
    }
   ],
   "source": [
    "df1.head()"
   ]
  },
  {
   "cell_type": "code",
   "execution_count": 44,
   "id": "08fdf2a4",
   "metadata": {},
   "outputs": [
    {
     "data": {
      "image/png": "[encoded data removed]",
      "text/plain": [
       "<Figure size 900x900 with 30 Axes>"
      ]
     },
     "metadata": {
      "needs_background": "light"
     },
     "output_type": "display_data"
    }
   ],
   "source": [
    "sns.pairplot(df1.select_dtypes(include=['float64']))\n",
    "plt.show()"
   ]
  },
  {
   "cell_type": "code",
   "execution_count": 45,
   "id": "2a5044b2",
   "metadata": {},
   "outputs": [],
   "source": [
    "\n",
    "import datetime\n",
    "import time\n",
    "import requests\n",
    "import io\n"
   ]
  },
  {
   "cell_type": "code",
   "execution_count": 46,
   "id": "0ba4c59b",
   "metadata": {},
   "outputs": [],
   "source": [
    "url=\"https://pkgstore.datahub.io/core/nasdaq-listings/nasdaq-listed_csv/data/7665719fb51081ba0bd834fde71ce822/nasdaq-listed_csv.csv\"\n",
    "s = requests.get(url).content\n",
    "companies = pd.read_csv(io.StringIO(s.decode('utf-8')))"
   ]
  },
  {
   "cell_type": "code",
   "execution_count": 47,
   "id": "00d46c35",
   "metadata": {},
   "outputs": [],
   "source": [
    "end = datetime.datetime(2021,1,1)\n",
    "start = datetime.datetime(2010,1,1)"
   ]
  },
  {
   "cell_type": "code",
   "execution_count": 48,
   "id": "dba42883",
   "metadata": {},
   "outputs": [],
   "source": [
    "Symbols = list(stk)"
   ]
  },
  {
   "cell_type": "code",
   "execution_count": null,
   "id": "937db769",
   "metadata": {},
   "outputs": [
    {
     "name": "stdout",
     "output_type": "stream",
     "text": [
      "0 : AAL,1 : PNW,2 : ABT,3 : AMD,4 : APD,5 : ALK,6 : HON,7 : SWKS,8 : HES,9 : AEP,10 : AXP,11 : AFL,12 : AIG,13 : AME,14 : AMGN,15 : ADI,16 : APA,17 : AAPL,18 : AMAT,19 : ADM,20 : ADSK,21 : ADP,22 : AVY,23 : BLL,24 : BK,25 : BAX,26 : BDX,"
     ]
    },
    {
     "name": "stderr",
     "output_type": "stream",
     "text": [
      "Exception in thread Thread-31:\n",
      "Traceback (most recent call last):\n",
      "  File \"/Users/nand/opt/anaconda3/lib/python3.8/threading.py\", line 932, in _bootstrap_inner\n",
      "    self.run()\n",
      "  File \"/Users/nand/opt/anaconda3/lib/python3.8/threading.py\", line 870, in run\n",
      "    self._target(*self._args, **self._kwargs)\n",
      "  File \"/Users/nand/opt/anaconda3/lib/python3.8/site-packages/multitasking/__init__.py\", line 104, in _run_via_pool\n",
      "    return callee(*args, **kwargs)\n",
      "  File \"/Users/nand/opt/anaconda3/lib/python3.8/site-packages/yfinance/multi.py\", line 188, in _download_one_threaded\n",
      "    data = _download_one(ticker, start, end, auto_adjust, back_adjust,\n",
      "  File \"/Users/nand/opt/anaconda3/lib/python3.8/site-packages/yfinance/multi.py\", line 202, in _download_one\n",
      "    return Ticker(ticker).history(period=period, interval=interval,\n",
      "  File \"/Users/nand/opt/anaconda3/lib/python3.8/site-packages/yfinance/base.py\", line 194, in history\n",
      "    data = data.json()\n",
      "  File \"/Users/nand/opt/anaconda3/lib/python3.8/site-packages/requests/models.py\", line 900, in json\n",
      "    return complexjson.loads(self.text, **kwargs)\n",
      "  File \"/Users/nand/opt/anaconda3/lib/python3.8/json/__init__.py\", line 357, in loads\n",
      "    return _default_decoder.decode(s)\n",
      "  File \"/Users/nand/opt/anaconda3/lib/python3.8/json/decoder.py\", line 337, in decode\n",
      "    obj, end = self.raw_decode(s, idx=_w(s, 0).end())\n",
      "  File \"/Users/nand/opt/anaconda3/lib/python3.8/json/decoder.py\", line 355, in raw_decode\n",
      "    raise JSONDecodeError(\"Expecting value\", s, err.value) from None\n",
      "json.decoder.JSONDecodeError: Expecting value: line 1 column 1 (char 0)\n"
     ]
    }
   ],
   "source": [
    "# create empty dataframe\n",
    "stock_final = pd.DataFrame()\n",
    "# iterate over each symbol\n",
    "for i in Symbols:  \n",
    "    \n",
    "    # print the symbol which is being downloaded\n",
    "    print( str(Symbols.index(i)) + str(' : ') + i, sep=',', end=',', flush=True)  \n",
    "    \n",
    "    try:\n",
    "        # download the stock price \n",
    "        stock = []\n",
    "        stock = yf.download(i,start=start, end=end, progress=False,period='10y',interval='1mo')\n",
    "        \n",
    "        # append the individual stock prices \n",
    "        if len(stock) == 0:\n",
    "            None\n",
    "        else:\n",
    "            stock['Name']=i\n",
    "            stock_final = stock_final.append(stock,sort=False)\n",
    "    except Exception:\n",
    "        None"
   ]
  },
  {
   "cell_type": "code",
   "execution_count": null,
   "id": "fb471c47",
   "metadata": {},
   "outputs": [],
   "source": [
    "stock_final.head(100)"
   ]
  },
  {
   "cell_type": "code",
   "execution_count": null,
   "id": "840e25a1",
   "metadata": {},
   "outputs": [],
   "source": [
    "import datetime as dt"
   ]
  },
  {
   "cell_type": "code",
   "execution_count": null,
   "id": "64658f77",
   "metadata": {},
   "outputs": [],
   "source": [
    "stock_final.to_excel('stock_final.xlsx')"
   ]
  },
  {
   "cell_type": "code",
   "execution_count": null,
   "id": "fc1b663e",
   "metadata": {},
   "outputs": [],
   "source": [
    "stock_final1 = pd.read_csv('/Users/nand/Desktop/Data research lab/stock_final1.csv')"
   ]
  },
  {
   "cell_type": "code",
   "execution_count": null,
   "id": "ddb1931d",
   "metadata": {},
   "outputs": [],
   "source": [
    "stock_final1.head(50)"
   ]
  },
  {
   "cell_type": "code",
   "execution_count": null,
   "id": "3b88788f",
   "metadata": {},
   "outputs": [],
   "source": [
    "stock_final1.isnull().sum()"
   ]
  },
  {
   "cell_type": "code",
   "execution_count": null,
   "id": "11bdeb02",
   "metadata": {},
   "outputs": [],
   "source": [
    "stock_final1.shape"
   ]
  },
  {
   "cell_type": "code",
   "execution_count": null,
   "id": "15097d61",
   "metadata": {},
   "outputs": [],
   "source": [
    "stk1 = stock_final1[['Date','Close','Name']]"
   ]
  },
  {
   "cell_type": "code",
   "execution_count": null,
   "id": "8ec33904",
   "metadata": {},
   "outputs": [],
   "source": [
    "stk1.head()"
   ]
  },
  {
   "cell_type": "code",
   "execution_count": null,
   "id": "cdf17714",
   "metadata": {},
   "outputs": [],
   "source": [
    "stk1.info()"
   ]
  },
  {
   "cell_type": "code",
   "execution_count": null,
   "id": "1d637929",
   "metadata": {},
   "outputs": [],
   "source": [
    "stk1['Date'] = pd.to_datetime(stk1['Date'])"
   ]
  },
  {
   "cell_type": "code",
   "execution_count": null,
   "id": "37920d14",
   "metadata": {},
   "outputs": [],
   "source": [
    "stk1.info()"
   ]
  },
  {
   "cell_type": "code",
   "execution_count": null,
   "id": "5af149f3",
   "metadata": {},
   "outputs": [],
   "source": [
    "stk1['Year'] = stk1['Date'].dt.year"
   ]
  },
  {
   "cell_type": "code",
   "execution_count": null,
   "id": "7e8bf347",
   "metadata": {},
   "outputs": [],
   "source": [
    "stk1.head()"
   ]
  },
  {
   "cell_type": "code",
   "execution_count": null,
   "id": "3216af06",
   "metadata": {},
   "outputs": [],
   "source": [
    "stk1.drop('Date',axis=1)"
   ]
  },
  {
   "cell_type": "code",
   "execution_count": null,
   "id": "07481e80",
   "metadata": {},
   "outputs": [],
   "source": [
    "stk1.shape"
   ]
  },
  {
   "cell_type": "code",
   "execution_count": null,
   "id": "37266064",
   "metadata": {},
   "outputs": [],
   "source": [
    "stk1 = stk1.dropna()"
   ]
  },
  {
   "cell_type": "code",
   "execution_count": null,
   "id": "ae33679c",
   "metadata": {},
   "outputs": [],
   "source": [
    "stk1.shape"
   ]
  },
  {
   "cell_type": "code",
   "execution_count": null,
   "id": "c2a2fa7a",
   "metadata": {},
   "outputs": [],
   "source": [
    "stk1.isnull().sum()"
   ]
  },
  {
   "cell_type": "code",
   "execution_count": null,
   "id": "b82eef5b",
   "metadata": {},
   "outputs": [],
   "source": [
    "stk1 = stk1.rename(columns={'Name': 'TICKER', 'Year': 'YEAR'})"
   ]
  },
  {
   "cell_type": "code",
   "execution_count": null,
   "id": "9c9ee47c",
   "metadata": {},
   "outputs": [],
   "source": [
    "stk1.head()"
   ]
  },
  {
   "cell_type": "code",
   "execution_count": null,
   "id": "2a1cec47",
   "metadata": {},
   "outputs": [],
   "source": [
    "df2 = pd.merge(df1,stk1,on=['TICKER','YEAR'],how='inner')"
   ]
  },
  {
   "cell_type": "code",
   "execution_count": null,
   "id": "0a414774",
   "metadata": {},
   "outputs": [],
   "source": [
    "df2.head()"
   ]
  },
  {
   "cell_type": "code",
   "execution_count": null,
   "id": "b1d322b3",
   "metadata": {},
   "outputs": [],
   "source": [
    "df2 = df2.drop('Date',axis=1)"
   ]
  },
  {
   "cell_type": "code",
   "execution_count": null,
   "id": "b27482d1",
   "metadata": {},
   "outputs": [],
   "source": [
    "df2.head(100)"
   ]
  },
  {
   "cell_type": "code",
   "execution_count": null,
   "id": "d856d021",
   "metadata": {},
   "outputs": [],
   "source": [
    "sns.heatmap(df2.corr(),annot=True,cmap=\"YlGnBu\")"
   ]
  },
  {
   "cell_type": "markdown",
   "id": "e9feecc0",
   "metadata": {},
   "source": [
    "### The Top 10 employers "
   ]
  },
  {
   "cell_type": "code",
   "execution_count": null,
   "id": "574f585f",
   "metadata": {},
   "outputs": [],
   "source": [
    "comp_rank_salary =  df2.groupby(['CONAME','EXECRANKANN'],as_index=False).SALARY.max()\n",
    "fin1 = comp_rank_salary.sort_values(by=['SALARY'],ascending=False)\n",
    "fin1.head(10)"
   ]
  },
  {
   "cell_type": "markdown",
   "id": "ea4fa249",
   "metadata": {},
   "source": [
    "### Top companies with highest mean salary among ranks "
   ]
  },
  {
   "cell_type": "code",
   "execution_count": null,
   "id": "4c0a1e41",
   "metadata": {},
   "outputs": [],
   "source": [
    "comp_rank_salary =  df2.groupby(['CONAME','EXECRANKANN'],as_index=False).SALARY.mean()\n",
    "fin2 = comp_rank_salary.sort_values(by=['SALARY'],ascending=False)\n",
    "fin2.head(10)"
   ]
  },
  {
   "cell_type": "markdown",
   "id": "4d2ac68b",
   "metadata": {},
   "source": [
    "### Mean salary acc. to executive rank"
   ]
  },
  {
   "cell_type": "code",
   "execution_count": null,
   "id": "8b5fba5d",
   "metadata": {},
   "outputs": [],
   "source": [
    "comp_rank_salary =  df2.groupby(['EXECRANKANN'],as_index=False).SALARY.mean()\n",
    "fin2 = comp_rank_salary.sort_values(by=['SALARY'],ascending=False)\n",
    "fin2.head(10)"
   ]
  },
  {
   "cell_type": "markdown",
   "id": "16915661",
   "metadata": {},
   "source": [
    "### Top employees of top companies "
   ]
  },
  {
   "cell_type": "code",
   "execution_count": null,
   "id": "0937c3a5",
   "metadata": {},
   "outputs": [],
   "source": [
    "fin1.columns"
   ]
  },
  {
   "cell_type": "code",
   "execution_count": null,
   "id": "f2b9714b",
   "metadata": {},
   "outputs": [],
   "source": [
    "comn = fin1['CONAME'].to_list()\n",
    "\n",
    "comn1 = comn[:10]\n",
    "\n",
    "comn2 = list(set(comn1))"
   ]
  },
  {
   "cell_type": "code",
   "execution_count": null,
   "id": "a10df0ad",
   "metadata": {},
   "outputs": [],
   "source": [
    "comn2"
   ]
  },
  {
   "cell_type": "code",
   "execution_count": null,
   "id": "aeb79d32",
   "metadata": {},
   "outputs": [],
   "source": [
    "df2.head()"
   ]
  },
  {
   "cell_type": "code",
   "execution_count": null,
   "id": "e387427d",
   "metadata": {},
   "outputs": [],
   "source": [
    "df0 = pd.DataFrame()\n",
    "for i in range(0,len(comn2)):\n",
    "    q = df2[comn1[i] == df2['CONAME']].sort_values('SALARY',ascending=False)\n",
    "    df0 = df0.append(q.iloc[0])\n",
    "df0.head(len(comn2)).sort_values('SALARY',ascending=False)\n"
   ]
  },
  {
   "cell_type": "markdown",
   "id": "b7d535d8",
   "metadata": {},
   "source": [
    "- All the highest paid employees in top companies are male\n",
    "- Goldman sachs employee with rank 3 earns more than less rank employee\n",
    "- Netflix pays the highest salary among all the other companies\n",
    "- FOX corp pays the highest mean salary among all the ranks"
   ]
  },
  {
   "cell_type": "markdown",
   "id": "254592f8",
   "metadata": {},
   "source": [
    "### Highest pays for female employees"
   ]
  },
  {
   "cell_type": "code",
   "execution_count": null,
   "id": "5e7f664a",
   "metadata": {},
   "outputs": [],
   "source": [
    "w = df2.groupby(['CONAME','GENDER'],as_index=False).SALARY.max()\n",
    "v = w.sort_values('SALARY',ascending=False)\n",
    "v1 = v[v['GENDER'] == 1]\n",
    "v1.head()"
   ]
  },
  {
   "cell_type": "markdown",
   "id": "87543670",
   "metadata": {},
   "source": [
    "- General motors gives the highest salary to female employees among all other companies\n",
    "- Highest pay for female employees is way lower than the highest pay for male employees\n"
   ]
  },
  {
   "cell_type": "code",
   "execution_count": null,
   "id": "b2816b3c",
   "metadata": {},
   "outputs": [],
   "source": [
    "plt.hist(df2['AGE'],bins=50)\n",
    "plt.show()"
   ]
  },
  {
   "cell_type": "markdown",
   "id": "4315ee05",
   "metadata": {},
   "source": [
    "- The average age of the female employees lies between 40-60"
   ]
  },
  {
   "cell_type": "code",
   "execution_count": null,
   "id": "7e82ad88",
   "metadata": {},
   "outputs": [],
   "source": [
    "df0.head()"
   ]
  },
  {
   "cell_type": "markdown",
   "id": "f5c97cf2",
   "metadata": {},
   "source": [
    "### Model builiding "
   ]
  },
  {
   "cell_type": "code",
   "execution_count": null,
   "id": "9f7fb867",
   "metadata": {},
   "outputs": [],
   "source": [
    "df3 = df2.copy()"
   ]
  },
  {
   "cell_type": "code",
   "execution_count": null,
   "id": "1c07bde8",
   "metadata": {},
   "outputs": [],
   "source": [
    "df3.drop(['AGE','EXECRANKANN','EXEC_FULLNAME','GENDER','SALARY','TDC1_PCT','TDC1','CONAME'],axis=1,inplace=True)"
   ]
  },
  {
   "cell_type": "code",
   "execution_count": null,
   "id": "e72e2727",
   "metadata": {
    "scrolled": true
   },
   "outputs": [],
   "source": [
    "df3.head()"
   ]
  },
  {
   "cell_type": "code",
   "execution_count": null,
   "id": "171cd274",
   "metadata": {},
   "outputs": [],
   "source": [
    "df3.shape"
   ]
  },
  {
   "cell_type": "code",
   "execution_count": null,
   "id": "c355b84d",
   "metadata": {},
   "outputs": [],
   "source": [
    "#df3 = df3.set_index('TICKER',inplace=True)"
   ]
  },
  {
   "cell_type": "code",
   "execution_count": null,
   "id": "312b06dd",
   "metadata": {},
   "outputs": [],
   "source": [
    "df3.head()"
   ]
  },
  {
   "cell_type": "code",
   "execution_count": null,
   "id": "de1c99e4",
   "metadata": {},
   "outputs": [],
   "source": [
    "df3.drop_duplicates()"
   ]
  },
  {
   "cell_type": "code",
   "execution_count": null,
   "id": "72653201",
   "metadata": {},
   "outputs": [],
   "source": [
    "df3.head()"
   ]
  },
  {
   "cell_type": "code",
   "execution_count": null,
   "id": "7ab8ec75",
   "metadata": {},
   "outputs": [],
   "source": [
    "#df3 = df3.set_index('TICKER',inplace=True)"
   ]
  },
  {
   "cell_type": "code",
   "execution_count": null,
   "id": "569364d8",
   "metadata": {},
   "outputs": [],
   "source": [
    "df3.info()"
   ]
  },
  {
   "cell_type": "code",
   "execution_count": null,
   "id": "1917304b",
   "metadata": {},
   "outputs": [],
   "source": [
    "df3 = df3.drop_duplicates()"
   ]
  },
  {
   "cell_type": "code",
   "execution_count": null,
   "id": "32fdd86b",
   "metadata": {},
   "outputs": [],
   "source": [
    "df3.head()"
   ]
  },
  {
   "cell_type": "code",
   "execution_count": null,
   "id": "61b2fe16",
   "metadata": {},
   "outputs": [],
   "source": [
    "df4 = df3.copy()"
   ]
  },
  {
   "cell_type": "code",
   "execution_count": null,
   "id": "ba6056e3",
   "metadata": {},
   "outputs": [],
   "source": [
    "df4 = df4.pivot_table(index=['YEAR'],columns='TICKER',values='Close',fill_value=0)"
   ]
  },
  {
   "cell_type": "code",
   "execution_count": null,
   "id": "146b518f",
   "metadata": {},
   "outputs": [],
   "source": [
    "df4.head(20)"
   ]
  },
  {
   "cell_type": "code",
   "execution_count": null,
   "id": "9f4cd418",
   "metadata": {},
   "outputs": [],
   "source": [
    "df4.plot(figsize=(16,8))\n",
    "plt.legend(loc='best')\n",
    "plt.title('Stock Prices over years')\n",
    "plt.xlabel('Time')\n",
    "plt.ylabel('Stock Price')\n",
    "plt.show()"
   ]
  },
  {
   "cell_type": "code",
   "execution_count": null,
   "id": "699b28a2",
   "metadata": {},
   "outputs": [],
   "source": [
    "df_normalised = df4.div(df4.iloc[0])"
   ]
  },
  {
   "cell_type": "code",
   "execution_count": null,
   "id": "385930e0",
   "metadata": {},
   "outputs": [],
   "source": [
    "df_normalised.head()"
   ]
  },
  {
   "cell_type": "code",
   "execution_count": null,
   "id": "7718860e",
   "metadata": {},
   "outputs": [],
   "source": [
    "df_normalised.plot(figsize=(16,8))\n",
    "plt.legend(loc='best')\n",
    "plt.title('Stock Prices over years after normalisation')\n",
    "plt.xlabel('Time')\n",
    "plt.ylabel('Stock Price')\n",
    "plt.show()"
   ]
  }
 ],
 "metadata": {
  "kernelspec": {
   "display_name": "Python 3",
   "language": "python",
   "name": "python3"
  },
  "language_info": {
   "codemirror_mode": {
    "name": "ipython",
    "version": 3
   },
   "file_extension": ".py",
   "mimetype": "text/x-python",
   "name": "python",
   "nbconvert_exporter": "python",
   "pygments_lexer": "ipython3",
   "version": "3.8.8"
  }
 },
 "nbformat": 4,
 "nbformat_minor": 5
}
